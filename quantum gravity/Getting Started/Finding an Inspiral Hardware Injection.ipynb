{
 "cells": [
  {
   "cell_type": "markdown",
   "metadata": {},
   "source": [
    "### Using Documentation\n",
    "\n",
    "Let's start by using the available documentation to pick a hardware injection we want to recover. From the S5 CBC hardware injection page, follow the link to the table of injections for H1. We'll pick an injection with a relatively high SNR for the tutorial. Scroll down until you see GPS time 817064899. You should see a line in the table that looks like this:\n",
    "\n",
    "817064899 \tH1 \t10 \t10 \t25 \tSuccessful \t28.16 \t26.55 \n",
    "\n",
    "### Getting Data\n"
   ]
  },
  {
   "cell_type": "markdown",
   "metadata": {},
   "source": [
    "If you do not already know how to download and read a LIGO data file, you may want to start with the Introduction to LIGO Data Files. As a reminder, to download this data file, follow the menu link to Data & Catalogs to find the S5 Data Archive.\n",
    "- Navigate to the [S5 Data Archive](https://losc.ligo.org/archive/S5)\n",
    "- Select the H1 instrument\n",
    "- Input the injection time as both the start and end of your query.\n",
    "- Click submit\n",
    "\n",
    "This should return a result with only the data file containing the injection."
   ]
  },
  {
   "cell_type": "code",
   "execution_count": 1,
   "metadata": {
    "collapsed": true
   },
   "outputs": [],
   "source": [
    "import numpy as np\n",
    "import matplotlib.pyplot as plt\n",
    "import matplotlib.mlab as mlab\n",
    "import readligo as rl\n",
    "%matplotlib inline"
   ]
  },
  {
   "cell_type": "code",
   "execution_count": 10,
   "metadata": {},
   "outputs": [
    {
     "name": "stdout",
     "output_type": "stream",
     "text": [
      "dict_keys(['DATA', 'CBCHIGH_CAT1', 'CBCHIGH_CAT2', 'CBCHIGH_CAT3', 'CBCHIGH_CAT4', 'CBCLOW_CAT1', 'CBCLOW_CAT2', 'CBCLOW_CAT3', 'CBCLOW_CAT4', 'BURST_CAT1', 'BURST_CAT2', 'BURST_CAT3', 'BURST_CAT2E', 'BURST_CAT3E', 'CW_CAT1', 'STOCH_CAT1', 'STOCH_CAT2_H1L1', 'STOCH_CAT2_H2L1', 'PEM', 'HW', 'HW_CBC', 'HW_BURST', 'HW_STOCH', 'CW', 'DEFAULT'])\n"
     ]
    }
   ],
   "source": [
    "strain, time, dq = rl.loaddata('H-H1_LOSC_4_V1-817061888-4096.hdf5')\n",
    "dt = time[1] - time[0]\n",
    "fs = 1.0 / dt\n",
    "print(dq.keys())"
   ]
  },
  {
   "cell_type": "code",
   "execution_count": 11,
   "metadata": {
    "scrolled": true
   },
   "outputs": [
    {
     "data": {
      "image/png": "[encoded data removed]",
      "text/plain": [
       "<matplotlib.figure.Figure at 0x116635630>"
      ]
     },
     "metadata": {},
     "output_type": "display_data"
    }
   ],
   "source": [
    "plt.figure(figsize=(16,12))\n",
    "plt.plot(dq['HW_CBC'] + 2, label='HW_CBC')\n",
    "plt.plot(dq['DEFAULT'], label='Good Data')\n",
    "plt.xlabel('Time since ' + str(time[0]) + ' (s)')\n",
    "plt.axis([0, 4096, -1, 6])\n",
    "plt.legend()\n",
    "plt.show()"
   ]
  },
  {
   "cell_type": "markdown",
   "metadata": {},
   "source": [
    "Notice that all the time around the injection passes the default data quality flags (DEFAULT is 1), so we should have no problems analyzing this time.\n",
    "\n",
    "Finally, let's grab the segment of data containing the injection. We'll also identify a segment of data just before the injection, to use for a PSD estimation. We'll call this the \"noise\" segment, and it will be 8 times as long as the segment containing the injection."
   ]
  },
  {
   "cell_type": "code",
   "execution_count": 12,
   "metadata": {},
   "outputs": [
    {
     "name": "stdout",
     "output_type": "stream",
     "text": [
      "The injection segment is 136.0 s long\n"
     ]
    }
   ],
   "source": [
    "# -- Get the injection segment\n",
    "inj_slice = rl.dq_channel_to_seglist(dq['HW_CBC'])[0]\n",
    "inj_data = strain[inj_slice]\n",
    "inj_time = time[inj_slice]\n",
    "\n",
    "# -- Get the noise segment\n",
    "noise_slice = slice(inj_slice.start-8*len(inj_data), inj_slice.start)\n",
    "noise_data = strain[noise_slice]\n",
    "\n",
    "# -- How long is the segment?\n",
    "seg_time = len(inj_data) / fs\n",
    "print(\"The injection segment is {0} s long\".format(seg_time))"
   ]
  },
  {
   "cell_type": "code",
   "execution_count": 15,
   "metadata": {},
   "outputs": [
    {
     "name": "stderr",
     "output_type": "stream",
     "text": [
      "/Users/tarrysingh/anaconda/lib/python3.6/site-packages/matplotlib/__init__.py:1405: UserWarning: \n",
      "This call to matplotlib.use() has no effect because the backend has already\n",
      "been chosen; matplotlib.use() must be called *before* pylab, matplotlib.pyplot,\n",
      "or matplotlib.backends is imported for the first time.\n",
      "\n",
      "  warnings.warn(_use_error_msg)\n"
     ]
    }
   ],
   "source": [
    "# -- Make a frequency domain template\n",
    "import template\n",
    "temp, temp_freq = template.createTemplate(4096, seg_time, 10, 10)"
   ]
  },
  {
   "cell_type": "code",
   "execution_count": null,
   "metadata": {
    "collapsed": true
   },
   "outputs": [],
   "source": []
  }
 ],
 "metadata": {
  "kernelspec": {
   "display_name": "Python 3",
   "language": "python",
   "name": "python3"
  },
  "language_info": {
   "codemirror_mode": {
    "name": "ipython",
    "version": 3
   },
   "file_extension": ".py",
   "mimetype": "text/x-python",
   "name": "python",
   "nbconvert_exporter": "python",
   "pygments_lexer": "ipython3",
   "version": "3.6.1"
  }
 },
 "nbformat": 4,
 "nbformat_minor": 2
}
