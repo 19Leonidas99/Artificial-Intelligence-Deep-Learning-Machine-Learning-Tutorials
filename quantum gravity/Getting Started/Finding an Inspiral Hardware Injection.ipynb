{
 "cells": [
  {
   "cell_type": "markdown",
   "metadata": {},
   "source": [
    "### Using Documentation\n",
    "\n",
    "Let's start by using the available documentation to pick a hardware injection we want to recover. From the S5 CBC hardware injection page, follow the link to the table of injections for H1. We'll pick an injection with a relatively high SNR for the tutorial. Scroll down until you see GPS time 817064899. You should see a line in the table that looks like this:\n",
    "\n",
    "817064899 \tH1 \t10 \t10 \t25 \tSuccessful \t28.16 \t26.55 \n",
    "\n",
    "### Getting Data\n"
   ]
  },
  {
   "cell_type": "markdown",
   "metadata": {},
   "source": [
    "If you do not already know how to download and read a LIGO data file, you may want to start with the Introduction to LIGO Data Files. As a reminder, to download this data file, follow the menu link to Data & Catalogs to find the S5 Data Archive.\n",
    "- Navigate to the [S5 Data Archive](https://losc.ligo.org/archive/S5)\n",
    "- Select the H1 instrument\n",
    "- Input the injection time as both the start and end of your query.\n",
    "- Click submit\n",
    "\n",
    "This should return a result with only the data file containing the injection."
   ]
  },
  {
   "cell_type": "code",
   "execution_count": 1,
   "metadata": {
    "collapsed": true
   },
   "outputs": [],
   "source": [
    "import numpy as np\n",
    "import matplotlib.pyplot as plt\n",
    "import matplotlib.mlab as mlab\n",
    "import readligo as rl\n",
    "%matplotlib inline"
   ]
  },
  {
   "cell_type": "code",
   "execution_count": 2,
   "metadata": {},
   "outputs": [
    {
     "name": "stdout",
     "output_type": "stream",
     "text": [
      "dict_keys(['DATA', 'CBCHIGH_CAT1', 'CBCHIGH_CAT2', 'CBCHIGH_CAT3', 'CBCHIGH_CAT4', 'CBCLOW_CAT1', 'CBCLOW_CAT2', 'CBCLOW_CAT3', 'CBCLOW_CAT4', 'BURST_CAT1', 'BURST_CAT2', 'BURST_CAT3', 'BURST_CAT2E', 'BURST_CAT3E', 'CW_CAT1', 'STOCH_CAT1', 'STOCH_CAT2_H1L1', 'STOCH_CAT2_H2L1', 'PEM', 'HW', 'HW_CBC', 'HW_BURST', 'HW_STOCH', 'CW', 'DEFAULT'])\n"
     ]
    }
   ],
   "source": [
    "strain, time, dq = rl.loaddata('H-H1_LOSC_4_V1-815411200-4096.hdf5')\n",
    "dt = time[1] - time[0]\n",
    "fs = 1.0 / dt\n",
    "print(dq.keys())"
   ]
  },
  {
   "cell_type": "code",
   "execution_count": null,
   "metadata": {
    "collapsed": true
   },
   "outputs": [],
   "source": []
  }
 ],
 "metadata": {
  "kernelspec": {
   "display_name": "Python 3",
   "language": "python",
   "name": "python3"
  },
  "language_info": {
   "codemirror_mode": {
    "name": "ipython",
    "version": 3
   },
   "file_extension": ".py",
   "mimetype": "text/x-python",
   "name": "python",
   "nbconvert_exporter": "python",
   "pygments_lexer": "ipython3",
   "version": "3.6.1"
  }
 },
 "nbformat": 4,
 "nbformat_minor": 2
}
