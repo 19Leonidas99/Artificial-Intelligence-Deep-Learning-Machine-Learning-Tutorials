{
 "cells": [
  {
   "cell_type": "code",
   "execution_count": 1,
   "metadata": {
    "hideCode": false,
    "hidePrompt": false
   },
   "outputs": [
    {
     "name": "stderr",
     "output_type": "stream",
     "text": [
      "/Users/tarrysingh/anaconda/lib/python3.6/importlib/_bootstrap.py:205: RuntimeWarning: compiletime version 3.5 of module 'tensorflow.python.framework.fast_tensor_util' does not match runtime version 3.6\n",
      "  return f(*args, **kwds)\n"
     ]
    }
   ],
   "source": [
    "import tensorflow as tf"
   ]
  },
  {
   "cell_type": "markdown",
   "metadata": {
    "hideCode": false,
    "hidePrompt": false
   },
   "source": [
    "## Eager Execution\n",
    "\n",
    "Eager execution is an experimental interface to TensorFlow that provides an imperative programming style (à la, Torch7, NumPy). When you enable eager execution, TensorFlow operations execute immediately; you do not execute a pre-constructed graph with `Session.run()`."
   ]
  },
  {
   "cell_type": "markdown",
   "metadata": {
    "hideCode": false,
    "hidePrompt": false
   },
   "source": [
    "### Currently we're doing this... "
   ]
  },
  {
   "cell_type": "code",
   "execution_count": 6,
   "metadata": {
    "hideCode": false,
    "hidePrompt": false
   },
   "outputs": [
    {
     "name": "stdout",
     "output_type": "stream",
     "text": [
      "[[ 4.]]\n"
     ]
    }
   ],
   "source": [
    "x = tf.placeholder(tf.float32, shape=[1, 1])\n",
    "m = tf.matmul(x, x)\n",
    "\n",
    "with tf.Session() as sess:\n",
    "    print(sess.run(m, feed_dict={x: [[2.]]}))"
   ]
  },
  {
   "cell_type": "markdown",
   "metadata": {
    "hideCode": false,
    "hidePrompt": false
   },
   "source": [
    "### Getting eager execution (warning! -- Don't try this stuff in your production systems!!)\n",
    "\n"
   ]
  },
  {
   "cell_type": "code",
   "execution_count": 7,
   "metadata": {
    "hideCode": false,
    "hidePrompt": false
   },
   "outputs": [
    {
     "name": "stdout",
     "output_type": "stream",
     "text": [
      "Collecting tf-nightly\n",
      "  Downloading tf_nightly-1.5.0.dev20171122-cp36-cp36m-macosx_10_11_x86_64.whl (42.4MB)\n",
      "\u001b[K    100% |████████████████████████████████| 42.4MB 18kB/s  eta 0:00:01\n",
      "\u001b[?25hCollecting tb-nightly<1.6.0a0,>=1.5.0a0 (from tf-nightly)\n",
      "  Downloading tb_nightly-1.5.0a20171121-py3-none-any.whl (2.9MB)\n",
      "\u001b[K    100% |████████████████████████████████| 2.9MB 260kB/s eta 0:00:01\n",
      "\u001b[?25hRequirement already satisfied: wheel>=0.26 in /Users/tarrysingh/anaconda/lib/python3.6/site-packages (from tf-nightly)\n",
      "Requirement already satisfied: protobuf>=3.4.0 in /Users/tarrysingh/anaconda/lib/python3.6/site-packages (from tf-nightly)\n",
      "Collecting absl-py (from tf-nightly)\n",
      "  Downloading absl-py-0.1.5.tar.gz (78kB)\n",
      "\u001b[K    100% |████████████████████████████████| 81kB 6.7MB/s eta 0:00:01\n",
      "\u001b[?25hRequirement already satisfied: enum34>=1.1.6 in /Users/tarrysingh/anaconda/lib/python3.6/site-packages (from tf-nightly)\n",
      "Requirement already satisfied: numpy>=1.12.1 in /Users/tarrysingh/anaconda/lib/python3.6/site-packages (from tf-nightly)\n",
      "Collecting backports.weakref>=1.0rc1 (from tf-nightly)\n",
      "  Downloading backports.weakref-1.0.post1-py2.py3-none-any.whl\n",
      "Collecting mock>=2.0.0 (from tf-nightly)\n",
      "  Downloading mock-2.0.0-py2.py3-none-any.whl (56kB)\n",
      "\u001b[K    100% |████████████████████████████████| 61kB 5.3MB/s eta 0:00:01\n",
      "\u001b[?25hRequirement already satisfied: six>=1.10.0 in /Users/tarrysingh/anaconda/lib/python3.6/site-packages (from tf-nightly)\n",
      "Collecting futures>=3.1.1 (from tb-nightly<1.6.0a0,>=1.5.0a0->tf-nightly)\n",
      "  Downloading futures-3.1.1.tar.gz\n",
      "Requirement already satisfied: bleach==1.5.0 in /Users/tarrysingh/anaconda/lib/python3.6/site-packages (from tb-nightly<1.6.0a0,>=1.5.0a0->tf-nightly)\n",
      "Requirement already satisfied: werkzeug>=0.11.10 in /Users/tarrysingh/anaconda/lib/python3.6/site-packages (from tb-nightly<1.6.0a0,>=1.5.0a0->tf-nightly)\n",
      "Requirement already satisfied: markdown>=2.6.8 in /Users/tarrysingh/anaconda/lib/python3.6/site-packages (from tb-nightly<1.6.0a0,>=1.5.0a0->tf-nightly)\n",
      "Requirement already satisfied: html5lib==0.9999999 in /Users/tarrysingh/anaconda/lib/python3.6/site-packages (from tb-nightly<1.6.0a0,>=1.5.0a0->tf-nightly)\n",
      "Requirement already satisfied: setuptools in /Users/tarrysingh/anaconda/lib/python3.6/site-packages (from protobuf>=3.4.0->tf-nightly)\n",
      "Collecting pbr>=0.11 (from mock>=2.0.0->tf-nightly)\n",
      "  Downloading pbr-3.1.1-py2.py3-none-any.whl (99kB)\n",
      "\u001b[K    100% |████████████████████████████████| 102kB 5.9MB/s ta 0:00:01\n",
      "\u001b[?25hBuilding wheels for collected packages: absl-py, futures\n",
      "  Running setup.py bdist_wheel for absl-py ... \u001b[?25ldone\n",
      "\u001b[?25h  Stored in directory: /Users/tarrysingh/Library/Caches/pip/wheels/8c/5e/39/0c9325dbacd131f31c14f84d3e0a492358e3cc729d0bc6f1bb\n",
      "  Running setup.py bdist_wheel for futures ... \u001b[?25ldone\n",
      "\u001b[?25h  Stored in directory: /Users/tarrysingh/Library/Caches/pip/wheels/ad/79/48/b32521764d59b16fd1bc0ffd5862f6d3bf770c7d73ea1fb12a\n",
      "Successfully built absl-py futures\n",
      "Installing collected packages: futures, tb-nightly, absl-py, backports.weakref, pbr, mock, tf-nightly\n",
      "\u001b[31mException:\n",
      "Traceback (most recent call last):\n",
      "  File \"/Users/tarrysingh/anaconda/lib/python3.6/site-packages/pip/basecommand.py\", line 215, in main\n",
      "    status = self.run(options, args)\n",
      "  File \"/Users/tarrysingh/anaconda/lib/python3.6/site-packages/pip/commands/install.py\", line 342, in run\n",
      "    prefix=options.prefix_path,\n",
      "  File \"/Users/tarrysingh/anaconda/lib/python3.6/site-packages/pip/req/req_set.py\", line 784, in install\n",
      "    **kwargs\n",
      "  File \"/Users/tarrysingh/anaconda/lib/python3.6/site-packages/pip/req/req_install.py\", line 851, in install\n",
      "    self.move_wheel_files(self.source_dir, root=root, prefix=prefix)\n",
      "  File \"/Users/tarrysingh/anaconda/lib/python3.6/site-packages/pip/req/req_install.py\", line 1064, in move_wheel_files\n",
      "    isolated=self.isolated,\n",
      "  File \"/Users/tarrysingh/anaconda/lib/python3.6/site-packages/pip/wheel.py\", line 345, in move_wheel_files\n",
      "    clobber(source, lib_dir, True)\n",
      "  File \"/Users/tarrysingh/anaconda/lib/python3.6/site-packages/pip/wheel.py\", line 323, in clobber\n",
      "    shutil.copyfile(srcfile, destfile)\n",
      "  File \"/Users/tarrysingh/anaconda/lib/python3.6/shutil.py\", line 121, in copyfile\n",
      "    with open(dst, 'wb') as fdst:\n",
      "PermissionError: [Errno 13] Permission denied: '/Users/tarrysingh/anaconda/lib/python3.6/site-packages/tensorboard/__init__.py'\u001b[0m\n"
     ]
    }
   ],
   "source": [
    "!pip install tf-nightly"
   ]
  },
  {
   "cell_type": "markdown",
   "metadata": {},
   "source": [
    "### Fixed the above with the following (I hope!)\n",
    "\n",
    "```shell\n",
    "MacBook-Pro-2:~ tarrysingh$ sudo pip install tf-nightly\n",
    "Password:\n",
    "The directory '/Users/tarrysingh/Library/Caches/pip/http' or its parent directory is not owned by the current user and the cache has been disabled. Please check the permissions and owner of that directory. If executing pip with sudo, you may want sudo's -H flag.\n",
    "The directory '/Users/tarrysingh/Library/Caches/pip' or its parent directory is not owned by the current user and caching wheels has been disabled. check the permissions and owner of that directory. If executing pip with sudo, you may want sudo's -H flag.\n",
    "Collecting tf-nightly\n",
    "  Downloading tf_nightly-1.5.0.dev20171122-cp36-cp36m-macosx_10_11_x86_64.whl (42.4MB)\n",
    "    100% |████████████████████████████████| 42.4MB 18kB/s \n",
    "Requirement already satisfied: enum34>=1.1.6 in ./anaconda/lib/python3.6/site-packages (from tf-nightly)\n",
    "Collecting mock>=2.0.0 (from tf-nightly)\n",
    "  Downloading mock-2.0.0-py2.py3-none-any.whl (56kB)\n",
    "    100% |████████████████████████████████| 61kB 6.0MB/s \n",
    "Requirement already satisfied: protobuf>=3.4.0 in ./anaconda/lib/python3.6/site-packages (from tf-nightly)\n",
    "Collecting backports.weakref>=1.0rc1 (from tf-nightly)\n",
    "  Downloading backports.weakref-1.0.post1-py2.py3-none-any.whl\n",
    "Requirement already satisfied: six>=1.10.0 in ./anaconda/lib/python3.6/site-packages (from tf-nightly)\n",
    "Requirement already satisfied: tb-nightly<1.6.0a0,>=1.5.0a0 in ./anaconda/lib/python3.6/site-packages (from tf-nightly)\n",
    "Requirement already satisfied: numpy>=1.12.1 in ./anaconda/lib/python3.6/site-packages (from tf-nightly)\n",
    "Requirement already satisfied: wheel>=0.26 in ./anaconda/lib/python3.6/site-packages (from tf-nightly)\n",
    "Collecting absl-py (from tf-nightly)\n",
    "Collecting pbr>=0.11 (from mock>=2.0.0->tf-nightly)\n",
    "  Downloading pbr-3.1.1-py2.py3-none-any.whl (99kB)\n",
    "    100% |████████████████████████████████| 102kB 7.4MB/s \n",
    "Requirement already satisfied: setuptools in ./anaconda/lib/python3.6/site-packages (from protobuf>=3.4.0->tf-nightly)\n",
    "Requirement already satisfied: werkzeug>=0.11.10 in ./anaconda/lib/python3.6/site-packages (from tb-nightly<1.6.0a0,>=1.5.0a0->tf-nightly)\n",
    "Requirement already satisfied: markdown>=2.6.8 in ./anaconda/lib/python3.6/site-packages (from tb-nightly<1.6.0a0,>=1.5.0a0->tf-nightly)\n",
    "Requirement already satisfied: html5lib==0.9999999 in ./anaconda/lib/python3.6/site-packages (from tb-nightly<1.6.0a0,>=1.5.0a0->tf-nightly)\n",
    "Requirement already satisfied: futures>=3.1.1 in ./anaconda/lib/python3.6/site-packages (from tb-nightly<1.6.0a0,>=1.5.0a0->tf-nightly)\n",
    "Requirement already satisfied: bleach==1.5.0 in ./anaconda/lib/python3.6/site-packages (from tb-nightly<1.6.0a0,>=1.5.0a0->tf-nightly)\n",
    "Installing collected packages: pbr, mock, backports.weakref, absl-py, tf-nightly\n",
    "Successfully installed absl-py-0.1.5 backports.weakref-1.0.post1 mock-2.0.0 pbr-3.1.1 tf-nightly-1.5.0.dev20171122\n",
    "```\n"
   ]
  },
  {
   "cell_type": "code",
   "execution_count": 1,
   "metadata": {
    "hideCode": false,
    "hidePrompt": false
   },
   "outputs": [],
   "source": [
    "import tensorflow as tf\n",
    "import tensorflow.contrib.eager as tfe"
   ]
  },
  {
   "cell_type": "code",
   "execution_count": 2,
   "metadata": {
    "collapsed": true,
    "hideCode": false,
    "hidePrompt": false
   },
   "outputs": [],
   "source": [
    "tfe.enable_eager_execution()"
   ]
  },
  {
   "cell_type": "code",
   "execution_count": 4,
   "metadata": {},
   "outputs": [],
   "source": [
    "# multiple 3 X 3 matrix\n",
    "x = tf.matmul([[1, 2, 3],\n",
    "               [4, 5, 6],\n",
    "               [7, 8, 9]\n",
    "              ],\n",
    "              [\n",
    "               [10, 11, 12],\n",
    "               [13, 14, 15],\n",
    "               [16, 17, 18],\n",
    "              ])"
   ]
  },
  {
   "cell_type": "code",
   "execution_count": 5,
   "metadata": {
    "collapsed": true
   },
   "outputs": [],
   "source": [
    "# add one to each element using tf.add for broadcasting\n",
    "y = tf.add(x, 1)"
   ]
  },
  {
   "cell_type": "code",
   "execution_count": 6,
   "metadata": {
    "collapsed": true
   },
   "outputs": [],
   "source": [
    "# Create a random random matrix\n",
    "z = tf.random_uniform([6, 4])"
   ]
  },
  {
   "cell_type": "code",
   "execution_count": 7,
   "metadata": {},
   "outputs": [
    {
     "name": "stdout",
     "output_type": "stream",
     "text": [
      "tf.Tensor(\n",
      "[[ 84  90  96]\n",
      " [201 216 231]\n",
      " [318 342 366]], shape=(3, 3), dtype=int32)\n"
     ]
    }
   ],
   "source": [
    "print(x)"
   ]
  },
  {
   "cell_type": "code",
   "execution_count": 8,
   "metadata": {},
   "outputs": [
    {
     "name": "stdout",
     "output_type": "stream",
     "text": [
      "tf.Tensor(\n",
      "[[ 85  91  97]\n",
      " [202 217 232]\n",
      " [319 343 367]], shape=(3, 3), dtype=int32)\n"
     ]
    }
   ],
   "source": [
    "print(y)"
   ]
  },
  {
   "cell_type": "code",
   "execution_count": 9,
   "metadata": {},
   "outputs": [
    {
     "name": "stdout",
     "output_type": "stream",
     "text": [
      "tf.Tensor(\n",
      "[[ 0.47207558  0.70240712  0.07745922  0.35342956]\n",
      " [ 0.74914169  0.53220427  0.12502646  0.70724893]\n",
      " [ 0.01018655  0.76463735  0.61849976  0.54388297]\n",
      " [ 0.24877775  0.21197641  0.87039661  0.91248119]\n",
      " [ 0.26888895  0.27225351  0.40576231  0.69011891]\n",
      " [ 0.57791257  0.25492835  0.05408299  0.32339919]], shape=(6, 4), dtype=float32)\n"
     ]
    }
   ],
   "source": [
    "print(z)"
   ]
  },
  {
   "cell_type": "markdown",
   "metadata": {},
   "source": [
    "### Cool huh!\n",
    "\n",
    "What you see isw that with eager execution enabled [**its experimental, so don't go about playing with it in production!**] there I said it again 😌"
   ]
  }
 ],
 "metadata": {
  "hide_code_all_hidden": false,
  "kernelspec": {
   "display_name": "Python 3",
   "language": "python",
   "name": "python3"
  },
  "language_info": {
   "codemirror_mode": {
    "name": "ipython",
    "version": 3
   },
   "file_extension": ".py",
   "mimetype": "text/x-python",
   "name": "python",
   "nbconvert_exporter": "python",
   "pygments_lexer": "ipython3",
   "version": "3.6.1"
  }
 },
 "nbformat": 4,
 "nbformat_minor": 2
}
