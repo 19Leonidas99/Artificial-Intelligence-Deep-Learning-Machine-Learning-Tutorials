{
 "cells": [
  {
   "cell_type": "code",
   "execution_count": 1,
   "metadata": {
    "collapsed": true
   },
   "outputs": [],
   "source": [
    "# Import Tensorflow and create a graph session\n",
    "import tensorflow as tf\n",
    "sess = tf.Session()"
   ]
  },
  {
   "cell_type": "code",
   "execution_count": 2,
   "metadata": {
    "collapsed": true
   },
   "outputs": [],
   "source": [
    "# Declare variables\n",
    "a = tf.Variable(tf.constant(4.))\n",
    "# Input value\n",
    "x_val = 5.\n",
    "# Create a placeholder\n",
    "x_data = tf.placeholder(dtype=tf.float32)"
   ]
  },
  {
   "cell_type": "code",
   "execution_count": 3,
   "metadata": {
    "collapsed": true
   },
   "outputs": [],
   "source": [
    "# Add operation to the computational graph\n",
    "multiply = tf.multiply(a, x_data)"
   ]
  },
  {
   "cell_type": "code",
   "execution_count": 4,
   "metadata": {
    "collapsed": true
   },
   "outputs": [],
   "source": [
    "# Declare loss function as L2 distance between output and desired value\n",
    "loss = tf.square(tf.subtract(multiply, 50.))"
   ]
  },
  {
   "cell_type": "code",
   "execution_count": 5,
   "metadata": {},
   "outputs": [
    {
     "name": "stdout",
     "output_type": "stream",
     "text": [
      "WARNING:tensorflow:From /Users/tarrysingh/anaconda/lib/python3.6/site-packages/tensorflow/python/util/tf_should_use.py:175: initialize_all_variables (from tensorflow.python.ops.variables) is deprecated and will be removed after 2017-03-02.\n",
      "Instructions for updating:\n",
      "Use `tf.global_variables_initializer` instead.\n"
     ]
    }
   ],
   "source": [
    "# Initialize model variable\n",
    "init = tf.initialize_all_variables()\n",
    "# run the session\n",
    "sess.run(init)\n",
    "# What optimizer you want to use\n",
    "optim = tf.train.GradientDescentOptimizer(0.01)\n",
    "# train the step\n",
    "train_step = optim.minimize(loss)"
   ]
  },
  {
   "cell_type": "markdown",
   "metadata": {},
   "source": [
    "## Optmizing the model\n",
    "\n",
    "We will now optimize the model towards the desired value of 100. We are doing this by constantly feeding in the input 5 and backpropagate the loss to update the model varialbe towards the value."
   ]
  },
  {
   "cell_type": "code",
   "execution_count": 8,
   "metadata": {},
   "outputs": [
    {
     "name": "stdout",
     "output_type": "stream",
     "text": [
      "Optimizing a Multiplication Gate Output to 50.\n",
      "9.99999 * 5.0 = 50.0\n"
     ]
    }
   ],
   "source": [
    "print('Optimizing a Multiplication Gate Output to 50.')\n",
    "for i in range(10):\n",
    "    sess.run(train_step, feed_dict={x_data: x_val})\n",
    "    a_val = sess.run(a)\n",
    "    mult_output = sess.run(multiply, feed_dict={x_data: x_val})\n",
    "print(str(a_val) + ' * ' + str(x_val) + ' = ' + str(mult_output))"
   ]
  },
  {
   "cell_type": "code",
   "execution_count": 10,
   "metadata": {},
   "outputs": [],
   "source": [
    "from tensorflow.python.framework import ops\n",
    "ops.reset_default_graph()\n",
    "sess = tf.Session()"
   ]
  },
  {
   "cell_type": "code",
   "execution_count": 12,
   "metadata": {},
   "outputs": [],
   "source": [
    "a = tf.Variable(tf.constant(1.))\n",
    "b = tf.Variable(tf.constant(1.))\n",
    "x_val = 5.\n",
    "x_data = tf.placeholder(dtype=tf.float32)\n",
    "two_gate = tf.add(tf.multiply(a, x_data), b)\n",
    "loss = tf.square(tf.subtract(two_gate, 50.))\n",
    "\n",
    "optim = tf.train.GradientDescentOptimizer(0.01)\n",
    "train_step = optim.minimize(loss)\n"
   ]
  },
  {
   "cell_type": "code",
   "execution_count": 13,
   "metadata": {
    "collapsed": true
   },
   "outputs": [],
   "source": [
    "init = tf.global_variables_initializer()\n",
    "sess.run(init)"
   ]
  },
  {
   "cell_type": "code",
   "execution_count": 14,
   "metadata": {},
   "outputs": [
    {
     "name": "stdout",
     "output_type": "stream",
     "text": [
      "\n",
      "Optimizing Two Gate Output to 50.\n",
      "9.45605 * 5.0 + 2.69121 = 49.9714\n"
     ]
    }
   ],
   "source": [
    "print('\\nOptimizing Two Gate Output to 50.')\n",
    "for i in range(10):\n",
    "    # Run the train step\n",
    "    sess.run(train_step, feed_dict={x_data: x_val})\n",
    "    # Get the a and b values\n",
    "    a_val, b_val = (sess.run(a), sess.run(b))\n",
    "    # Run the two-gate graph output\n",
    "    two_gate_output = sess.run(two_gate, feed_dict={x_data: x_val})\n",
    "print(str(a_val) + ' * ' + str(x_val) + ' + ' + str(b_val) + ' = ' + str(two_gate_output))"
   ]
  },
  {
   "cell_type": "markdown",
   "metadata": {},
   "source": [
    "## Gates and Activation Functions\n",
    "\n",
    "$$sigmoid(x) = {1 \\over{1 + e^x}}$$\n",
    "\n",
    "$$ReLU(x) = max(0, x)$$"
   ]
  },
  {
   "cell_type": "code",
   "execution_count": 26,
   "metadata": {
    "collapsed": true
   },
   "outputs": [],
   "source": [
    "ops.reset_default_graph()\n",
    "sess = tf.Session()"
   ]
  },
  {
   "cell_type": "code",
   "execution_count": 27,
   "metadata": {
    "collapsed": true
   },
   "outputs": [],
   "source": [
    "import numpy as np\n",
    "import matplotlib.pyplot as plt\n",
    "sess = tf.Session()\n",
    "tf.set_random_seed(5)\n",
    "np.random.seed(42)"
   ]
  },
  {
   "cell_type": "code",
   "execution_count": 28,
   "metadata": {
    "collapsed": true
   },
   "outputs": [],
   "source": [
    "batch_size = 50\n",
    "a1 = tf.Variable(tf.random_normal(shape=[1, 1]))\n",
    "b1 = tf.Variable(tf.random_uniform(shape=[1, 1]))\n",
    "a2 = tf.Variable(tf.random_normal(shape=[1,1]))\n",
    "b2 = tf.Variable(tf.random_uniform(shape=[1,1]))\n",
    "x = np.random.normal(2, 0.1, 500)\n",
    "x_data = tf.placeholder(shape=[None, 1], dtype=tf.float32)"
   ]
  },
  {
   "cell_type": "code",
   "execution_count": 29,
   "metadata": {
    "collapsed": true
   },
   "outputs": [],
   "source": [
    "# declare models\n",
    "sigmoid_activation = tf.sigmoid(tf.add(tf.matmul(x_data, a1), b1))\n",
    "relu_activation = tf.nn.relu(tf.add(tf.matmul(x_data, a2), b2))"
   ]
  },
  {
   "cell_type": "code",
   "execution_count": 30,
   "metadata": {
    "collapsed": true
   },
   "outputs": [],
   "source": [
    "# Loss function avg L2 norm\n",
    "loss1 = tf.reduce_mean(tf.square(tf.subtract(sigmoid_activation, 0.75)))\n",
    "loss2 = tf.reduce_mean(tf.square(tf.subtract(relu_activation, 0.75)))"
   ]
  },
  {
   "cell_type": "code",
   "execution_count": 31,
   "metadata": {
    "collapsed": true
   },
   "outputs": [],
   "source": [
    "# Optimizer\n",
    "optim = tf.train.GradientDescentOptimizer(0.01)\n",
    "train_sigmoid = optim.minimize(loss1)\n",
    "train_relu = optim.minimize(loss2)\n",
    "init = tf.global_variables_initializer()\n",
    "sess.run(init)"
   ]
  },
  {
   "cell_type": "code",
   "execution_count": 32,
   "metadata": {},
   "outputs": [],
   "source": [
    "# We do 1000 iterations of our training for both models. Also, we'll save loss output and activation output\n",
    "# for plotting purposes\n",
    "lossvec_sigmoid = []\n",
    "lossvec_relu = []\n",
    "activation_sigmoid = []\n",
    "activation_relu = []\n",
    "\n",
    "# We loop\n",
    "for i in range(1000):\n",
    "    random_indices = np.random.choice(len(x), size=batch_size)\n",
    "    x_vals = np.transpose([x[random_indices]])\n",
    "    sess.run(train_sigmoid, feed_dict={x_data: x_vals})\n",
    "    sess.run(train_relu, feed_dict={x_data: x_vals})\n",
    "    lossvec_sigmoid.append(sess.run(loss1, feed_dict={x_data: x_vals}))\n",
    "    lossvec_relu.append(sess.run(loss2, feed_dict={x_data: x_vals}))\n",
    "    activation_sigmoid.append(np.mean(sess.run(sigmoid_activation, feed_dict={x_data: x_vals})))\n",
    "    activation_relu.append(np.mean(sess.run(relu_activation, feed_dict={x_data: x_vals})))"
   ]
  },
  {
   "cell_type": "code",
   "execution_count": 33,
   "metadata": {},
   "outputs": [
    {
     "data": {
      "image/png": "[encoded data removed]",
      "text/plain": [
       "<matplotlib.figure.Figure at 0x11bc41f60>"
      ]
     },
     "metadata": {},
     "output_type": "display_data"
    },
    {
     "data": {
      "image/png": "[encoded data removed]",
      "text/plain": [
       "<matplotlib.figure.Figure at 0x11c37c860>"
      ]
     },
     "metadata": {},
     "output_type": "display_data"
    }
   ],
   "source": [
    "plt.plot(activation_sigmoid, 'k-', label='Sigmoid Activation')\n",
    "plt.plot(activation_relu, 'r--', label='Relu Activation')\n",
    "plt.ylim([0, 1.0])\n",
    "plt.title('Activation Outputs')\n",
    "plt.xlabel('Generation')\n",
    "plt.ylabel('Outputs')\n",
    "plt.legend(loc='upper right')\n",
    "plt.show()\n",
    "plt.plot(lossvec_sigmoid, 'k-', label='Sigmoid Loss')\n",
    "plt.plot(lossvec_relu, 'r--', label='Relu Loss')\n",
    "plt.ylim([0, 1.0])\n",
    "plt.title('Loss per Generation')\n",
    "plt.xlabel('Generation')\n",
    "plt.ylabel('Loss')\n",
    "plt.legend(loc='upper right')\n",
    "plt.show()"
   ]
  },
  {
   "cell_type": "code",
   "execution_count": null,
   "metadata": {
    "collapsed": true
   },
   "outputs": [],
   "source": []
  }
 ],
 "metadata": {
  "kernelspec": {
   "display_name": "Python 3",
   "language": "python",
   "name": "python3"
  },
  "language_info": {
   "codemirror_mode": {
    "name": "ipython",
    "version": 3
   },
   "file_extension": ".py",
   "mimetype": "text/x-python",
   "name": "python",
   "nbconvert_exporter": "python",
   "pygments_lexer": "ipython3",
   "version": "3.6.1"
  }
 },
 "nbformat": 4,
 "nbformat_minor": 2
}
