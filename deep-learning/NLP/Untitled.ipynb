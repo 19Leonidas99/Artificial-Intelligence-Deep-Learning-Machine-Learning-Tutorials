{
 "cells": [
  {
   "cell_type": "markdown",
   "metadata": {},
   "source": [
    "## Text Classification\n",
    "\n",
    "There are several types of classification:\n",
    "\n",
    "- Binary : 2 mutually exclusive categories (Detecting spam etc)\n",
    "- Multiclass: More than 2 mutually exclusive categories (Language detection etc)\n",
    "- Multilabel: non-mutually exclusive categories (like movie genres, tV shows etc)\n",
    "\n",
    "### Binary text classification problem\n",
    "\n"
   ]
  },
  {
   "cell_type": "code",
   "execution_count": 1,
   "metadata": {
    "collapsed": true
   },
   "outputs": [],
   "source": [
    "from sklearn.feature_extraction.text import TfidfVectorizer\n",
    "from sklearn.svm import LinearSVC"
   ]
  },
  {
   "cell_type": "code",
   "execution_count": 2,
   "metadata": {
    "collapsed": true
   },
   "outputs": [],
   "source": [
    "# Train and test data set\n",
    "\n",
    "train_data = ['Football: a great sport', \n",
    "              'The referee has been very bad this season', \n",
    "              'Our team scored 5 goals', 'I love tenis',\n",
    "              'Politics is in decline in the UK', \n",
    "              'Brexit means Brexit', \n",
    "              'The parlament wants to create new legislation',\n",
    "              'I so want to travel the world']\n",
    "\n",
    "train_labels = [\"Sports\",\"Sports\",\"Sports\",\"Sports\", \n",
    "                \"Non Sports\", \"Non Sports\", \"Non Sports\", \"Non Sports\"]\n",
    "\n",
    "test_data = ['Swimming is a great sport', \n",
    "             'A lot of policy changes will happen after Brexit', \n",
    "             'The table tenis team will travel to the UK soon for the European Championship']\n",
    "test_labels = [\"Sports\", \"Non Sports\", \"Sports\"]"
   ]
  },
  {
   "cell_type": "code",
   "execution_count": 3,
   "metadata": {
    "collapsed": true
   },
   "outputs": [],
   "source": [
    "# Representation of data using Tf-IDF\n",
    "vectorizer = TfidfVectorizer()\n",
    "vectorized_train_data = vectorizer.fit_transform(train_data)\n",
    "vectorized_test_data = vectorizer.transform(test_data)"
   ]
  },
  {
   "cell_type": "code",
   "execution_count": 4,
   "metadata": {},
   "outputs": [
    {
     "data": {
      "text/plain": [
       "LinearSVC(C=1.0, class_weight=None, dual=True, fit_intercept=True,\n",
       "     intercept_scaling=1, loss='squared_hinge', max_iter=1000,\n",
       "     multi_class='ovr', penalty='l2', random_state=None, tol=0.0001,\n",
       "     verbose=0)"
      ]
     },
     "execution_count": 4,
     "metadata": {},
     "output_type": "execute_result"
    }
   ],
   "source": [
    "# Train the classifier given the training data\n",
    "classifier = LinearSVC()\n",
    "classifier.fit(vectorized_train_data, train_labels)"
   ]
  },
  {
   "cell_type": "code",
   "execution_count": 5,
   "metadata": {},
   "outputs": [
    {
     "name": "stdout",
     "output_type": "stream",
     "text": [
      "['Sports' 'Non Sports' 'Non Sports']\n"
     ]
    }
   ],
   "source": [
    "# Predict the labels for the test documents \n",
    "print(classifier.predict(vectorized_test_data))"
   ]
  },
  {
   "cell_type": "markdown",
   "metadata": {},
   "source": [
    "### Nice. We build our text classifier :)\n",
    "- Matching problems\n",
    "- Cases never seen below\n",
    "- \"Spurious\" correlations and bias (\"car\" appears only in the +ve category)"
   ]
  },
  {
   "cell_type": "code",
   "execution_count": 8,
   "metadata": {},
   "outputs": [
    {
     "name": "stdout",
     "output_type": "stream",
     "text": [
      "[[('sport', 0.57735026918962584),\n",
      "  ('is', 0.57735026918962584),\n",
      "  ('great', 0.57735026918962584)],\n",
      " [('brexit', 1.0)],\n",
      " [('uk', 0.34666892278432909),\n",
      "  ('travel', 0.34666892278432909),\n",
      "  ('to', 0.29053561299308733),\n",
      "  ('the', 0.6594480187891556),\n",
      "  ('tenis', 0.34666892278432909),\n",
      "  ('team', 0.34666892278432909)]]\n"
     ]
    }
   ],
   "source": [
    "from pprint import pprint\n",
    "\n",
    "def feature_values(doc, representer):\n",
    "    doc_rep = representer.transform([doc])\n",
    "    features = representer.get_feature_names()\n",
    "    return [(features[index], doc_rep[0, index]) for index in doc_rep.nonzero()[1]]\n",
    "pprint([feature_values(doc, vectorizer) for doc in test_data])"
   ]
  },
  {
   "cell_type": "markdown",
   "metadata": {},
   "source": [
    "### Let's try with remove with stop-word "
   ]
  },
  {
   "cell_type": "code",
   "execution_count": null,
   "metadata": {
    "collapsed": true
   },
   "outputs": [],
   "source": [
    "from nltk.corpus import stopwordswords\n",
    "\n",
    "# Load the list of english / stop words from nltk\n",
    "stop_words = "
   ]
  }
 ],
 "metadata": {
  "kernelspec": {
   "display_name": "Python 3",
   "language": "python",
   "name": "python3"
  },
  "language_info": {
   "codemirror_mode": {
    "name": "ipython",
    "version": 3
   },
   "file_extension": ".py",
   "mimetype": "text/x-python",
   "name": "python",
   "nbconvert_exporter": "python",
   "pygments_lexer": "ipython3",
   "version": "3.6.1"
  }
 },
 "nbformat": 4,
 "nbformat_minor": 2
}
