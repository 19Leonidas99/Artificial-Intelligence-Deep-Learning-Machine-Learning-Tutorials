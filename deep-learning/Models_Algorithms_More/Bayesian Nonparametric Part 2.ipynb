{
 "cells": [
  {
   "cell_type": "markdown",
   "metadata": {},
   "source": [
    "# Posterior Sampling for Gaussian Mixture Model with CRP using Gibbs sampler\n",
    "\n",
    "Reference: https://pdfs.semanticscholar.org/9ece/0336316d78837076ef048f3d07e953e38072.pdf"
   ]
  },
  {
   "cell_type": "code",
   "execution_count": 4,
   "metadata": {
    "collapsed": true
   },
   "outputs": [],
   "source": [
    "import numpy as np\n",
    "import scipy.stats as stats\n",
    "import matplotlib.pyplot as plt"
   ]
  },
  {
   "cell_type": "code",
   "execution_count": 5,
   "metadata": {},
   "outputs": [
    {
     "data": {
      "text/plain": [
       "array([[  5.69495732,   4.94284443],\n",
       "       [  5.68782589,   4.47679027],\n",
       "       [  5.07670341,   5.27024669],\n",
       "       [  5.01264355,   4.85634392],\n",
       "       [  4.76901253,   5.33982979],\n",
       "       [  6.13146084,   4.80160574],\n",
       "       [  5.09411255,   5.71230429],\n",
       "       [  5.45426402,   5.82271327],\n",
       "       [  5.41291749,   6.47048614],\n",
       "       [  4.46493235,   5.39304167],\n",
       "       [  4.93414211,   5.7132852 ],\n",
       "       [  5.008842  ,   4.38361214],\n",
       "       [  5.78992476,   4.36240139],\n",
       "       [  4.74251203,   5.94154687],\n",
       "       [  6.25891103,   5.09371976],\n",
       "       [  5.53060006,   6.80101313],\n",
       "       [  5.90391398,   4.0444675 ],\n",
       "       [  3.8510053 ,   5.42636835],\n",
       "       [  3.15902075,   4.53601873],\n",
       "       [  5.04865555,   5.52438314],\n",
       "       [  7.94303999,   8.78235396],\n",
       "       [  6.88585705,   7.04106302],\n",
       "       [  7.45988939,   7.86791135],\n",
       "       [  7.04769455,   7.29522411],\n",
       "       [  8.7342623 ,   7.42250037],\n",
       "       [  7.79284563,   9.05105669],\n",
       "       [  7.10191592,   7.51952475],\n",
       "       [  8.99652082,   8.20446702],\n",
       "       [  7.79623733,   8.00233914],\n",
       "       [  7.9163301 ,   7.94849801],\n",
       "       [  8.47699606,   6.94259979],\n",
       "       [  7.47551452,   8.99378461],\n",
       "       [  8.92707832,   8.02213648],\n",
       "       [  7.54543895,   7.48754239],\n",
       "       [  8.53185999,   7.20278002],\n",
       "       [  8.0699939 ,   7.45501632],\n",
       "       [  7.35926373,  10.46429382],\n",
       "       [  8.7027446 ,   7.39337735],\n",
       "       [  7.70637703,   7.33939688],\n",
       "       [  7.8971603 ,   7.73504448],\n",
       "       [ 21.19242406,  19.74070694],\n",
       "       [ 19.31175624,  20.29403957],\n",
       "       [ 19.14399217,  19.90121401],\n",
       "       [ 18.99763144,  20.04041016],\n",
       "       [ 20.30014695,  21.39161888],\n",
       "       [ 20.21957528,  19.17654445],\n",
       "       [ 20.18104424,  20.00927638],\n",
       "       [ 20.09103832,  20.13879626],\n",
       "       [ 19.94470202,  19.19490023],\n",
       "       [ 20.4171739 ,  20.5385216 ]])"
      ]
     },
     "execution_count": 5,
     "metadata": {},
     "output_type": "execute_result"
    }
   ],
   "source": [
    "# Lets generate some data\n",
    "X1 = np.random.multivariate_normal([5, 5], np.diag([0.5, 0.5]), size=20)\n",
    "X2 = np.random.multivariate_normal([8, 8], np.diag([0.5, 0.5]), size=20)\n",
    "X3 = np.random.multivariate_normal([20, 20], np.diag([0.5, 0.5]), size=10)\n",
    "\n",
    "X = np.vstack([X1, X2, X3])\n",
    "\n",
    "X"
   ]
  },
  {
   "cell_type": "code",
   "execution_count": 6,
   "metadata": {
    "collapsed": true
   },
   "outputs": [],
   "source": [
    "N, D = X.shape"
   ]
  },
  {
   "cell_type": "code",
   "execution_count": 7,
   "metadata": {
    "collapsed": true
   },
   "outputs": [],
   "source": [
    "# GMM paramters\n",
    "mus = [] # This lists a 2x1 vector (mean vector of each gaussian)\n",
    "sigma = np.eye(D)\n",
    "precision = np.linalg.inv(sigma)\n",
    "zs = np.zeros([N], dtype=int)\n",
    "C = [] # Cluster, bu=inary matrix of KxM\n",
    "Ns = [] # Count of each cluster"
   ]
  },
  {
   "cell_type": "code",
   "execution_count": 10,
   "metadata": {},
   "outputs": [
    {
     "data": {
      "text/plain": [
       "array([[ 1.,  0.],\n",
       "       [ 0.,  1.]])"
      ]
     },
     "execution_count": 10,
     "metadata": {},
     "output_type": "execute_result"
    }
   ],
   "source": [
    "sigma"
   ]
  },
  {
   "cell_type": "code",
   "execution_count": 11,
   "metadata": {},
   "outputs": [
    {
     "data": {
      "text/plain": [
       "array([[ 1.,  0.],\n",
       "       [ 0.,  1.]])"
      ]
     },
     "execution_count": 11,
     "metadata": {},
     "output_type": "execute_result"
    }
   ],
   "source": [
    "precision"
   ]
  },
  {
   "cell_type": "code",
   "execution_count": 12,
   "metadata": {},
   "outputs": [
    {
     "data": {
      "text/plain": [
       "array([0, 0, 0, 0, 0, 0, 0, 0, 0, 0, 0, 0, 0, 0, 0, 0, 0, 0, 0, 0, 0, 0, 0,\n",
       "       0, 0, 0, 0, 0, 0, 0, 0, 0, 0, 0, 0, 0, 0, 0, 0, 0, 0, 0, 0, 0, 0, 0,\n",
       "       0, 0, 0, 0])"
      ]
     },
     "execution_count": 12,
     "metadata": {},
     "output_type": "execute_result"
    }
   ],
   "source": [
    "zs"
   ]
  },
  {
   "cell_type": "code",
   "execution_count": 13,
   "metadata": {
    "collapsed": true
   },
   "outputs": [],
   "source": [
    "# CRP prior\n",
    "alpha = 200"
   ]
  },
  {
   "cell_type": "code",
   "execution_count": 14,
   "metadata": {
    "collapsed": true
   },
   "outputs": [],
   "source": [
    "# Base distribution prior: N(mutheta, precisiontheta)\n",
    "mu_theta = np.ones(D)\n",
    "sigma_theta = np.eye(D)\n",
    "precision_theta = np.linalg.inv(np.eye(D))\n",
    "G_theta = stats.multivariate_normal(mean=mu_theta, cov=np.eye(D))"
   ]
  },
  {
   "cell_type": "code",
   "execution_count": 15,
   "metadata": {
    "collapsed": true
   },
   "outputs": [],
   "source": [
    "# Initiate the ONE cluster\n",
    "C.append(np.ones(N, dtype=int))\n",
    "zs[:] = 0\n",
    "Ns.append(N)\n",
    "mus.append(G_theta.rvs())\n",
    "\n",
    "K = 1\n",
    "mvn = stats.multivariate_normal"
   ]
  },
  {
   "cell_type": "code",
   "execution_count": null,
   "metadata": {
    "collapsed": true
   },
   "outputs": [],
   "source": [
    "# Gibbs sampler\n",
    "for it in range(20):\n",
    "    # here we sample from full conditional of assignment from CRP prior\n",
    "    # z ~ GEM(alpha)\n",
    "    # Now, for each data point, draw a cluster assignment\n",
    "    for i in range(N):\n",
    "        "
   ]
  },
  {
   "cell_type": "code",
   "execution_count": null,
   "metadata": {
    "collapsed": true
   },
   "outputs": [],
   "source": []
  }
 ],
 "metadata": {
  "kernelspec": {
   "display_name": "Python 3",
   "language": "python",
   "name": "python3"
  },
  "language_info": {
   "codemirror_mode": {
    "name": "ipython",
    "version": 3
   },
   "file_extension": ".py",
   "mimetype": "text/x-python",
   "name": "python",
   "nbconvert_exporter": "python",
   "pygments_lexer": "ipython3",
   "version": "3.6.1"
  }
 },
 "nbformat": 4,
 "nbformat_minor": 2
}
