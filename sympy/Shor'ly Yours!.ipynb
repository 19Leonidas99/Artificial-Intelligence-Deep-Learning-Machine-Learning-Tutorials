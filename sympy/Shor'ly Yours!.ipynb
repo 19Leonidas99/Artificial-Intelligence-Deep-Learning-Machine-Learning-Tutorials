{
 "cells": [
  {
   "cell_type": "markdown",
   "metadata": {},
   "source": [
    "## More of Shor Algorithm "
   ]
  },
  {
   "cell_type": "code",
   "execution_count": 1,
   "metadata": {},
   "outputs": [
    {
     "name": "stdout",
     "output_type": "stream",
     "text": [
      "N = 15\n",
      "Neighborhood = 1\n",
      "Number of periods = 2\n",
      "\n",
      "Attempt #0\n",
      "Finding the period...\n",
      "Q = 256\ta = 2\n",
      "Registers generated\n",
      "Performing Hadamard on input register\n",
      "Hadamard complete\n",
      "Mapping input register to output register, where f(x) is a^x mod N\n",
      "Modular exponentiation complete\n",
      "Performing quantum Fourier transform on output register\n",
      "Quantum Fourier transform complete\n",
      "Performing a measurement on the output register\n",
      "Output register measured\ty = 2\n",
      "Performing a measurement on the periodicity register\n",
      "QFT register measured\tx = 64\n",
      "Finding the period via continued fractions\n",
      "Candidate period\tr = 4\n",
      "Checking candidate period, nearby values, and multiples\n",
      "Period found\tr = 4\n",
      "\n",
      "Attempt #1\n",
      "Finding the period...\n",
      "Q = 256\ta = 7\n",
      "Registers generated\n",
      "Performing Hadamard on input register\n",
      "Hadamard complete\n",
      "Mapping input register to output register, where f(x) is a^x mod N\n",
      "Modular exponentiation complete\n",
      "Performing quantum Fourier transform on output register\n",
      "Quantum Fourier transform complete\n",
      "Performing a measurement on the output register\n",
      "Output register measured\ty = 4\n",
      "Performing a measurement on the periodicity register\n",
      "QFT register measured\tx = 192\n",
      "Finding the period via continued fractions\n",
      "Candidate period\tr = 4\n",
      "Checking candidate period, nearby values, and multiples\n",
      "Period found\tr = 4\n",
      "\n",
      "Finding least common multiple of all periods\n",
      "Factors:\t5, 3\n"
     ]
    }
   ],
   "source": [
    "!python shor2.py 15"
   ]
  },
  {
   "cell_type": "code",
   "execution_count": null,
   "metadata": {},
   "outputs": [
    {
     "name": "stdout",
     "output_type": "stream",
     "text": [
      "N = 23\n",
      "Neighborhood = 1\n",
      "Number of periods = 2\n",
      "\n",
      "Attempt #0\n",
      "Finding the period...\n",
      "Q = 1024\ta = 15\n",
      "Registers generated\n",
      "Performing Hadamard on input register\n",
      "Hadamard complete\n",
      "Mapping input register to output register, where f(x) is a^x mod N\n",
      "Modular exponentiation complete\n",
      "Performing quantum Fourier transform on output register\n",
      "Quantum Fourier transform complete\n",
      "Performing a measurement on the output register\n",
      "Output register measured\ty = 7\n",
      "Performing a measurement on the periodicity register\n",
      "QFT register measured\tx = 372\n",
      "Finding the period via continued fractions\n",
      "Candidate period\tr = 11\n",
      "Checking candidate period, nearby values, and multiples\n",
      "Period was trivial, re-attempt\n",
      "\n",
      "Attempt #1\n",
      "Finding the period...\n",
      "Q = 1024\ta = 6\n",
      "Registers generated\n",
      "Performing Hadamard on input register\n",
      "Hadamard complete\n",
      "Mapping input register to output register, where f(x) is a^x mod N\n",
      "Modular exponentiation complete\n",
      "Performing quantum Fourier transform on output register\n",
      "Quantum Fourier transform complete\n",
      "Performing a measurement on the output register\n",
      "Output register measured\ty = 18\n",
      "Performing a measurement on the periodicity register\n",
      "QFT register measured\tx = 186\n",
      "Finding the period via continued fractions\n",
      "Candidate period\tr = 11\n",
      "Checking candidate period, nearby values, and multiples\n",
      "Period was odd, re-attempt\n",
      "\n",
      "Attempt #2\n",
      "Finding the period...\n",
      "Q = 1024\ta = 9\n",
      "Registers generated\n",
      "Performing Hadamard on input register\n"
     ]
    }
   ],
   "source": [
    "! python shor2.py 23"
   ]
  },
  {
   "cell_type": "code",
   "execution_count": null,
   "metadata": {
    "collapsed": true
   },
   "outputs": [],
   "source": []
  }
 ],
 "metadata": {
  "kernelspec": {
   "display_name": "Python 3",
   "language": "python",
   "name": "python3"
  },
  "language_info": {
   "codemirror_mode": {
    "name": "ipython",
    "version": 3
   },
   "file_extension": ".py",
   "mimetype": "text/x-python",
   "name": "python",
   "nbconvert_exporter": "python",
   "pygments_lexer": "ipython3",
   "version": "3.6.1"
  }
 },
 "nbformat": 4,
 "nbformat_minor": 2
}
