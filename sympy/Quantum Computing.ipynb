{
 "cells": [
  {
   "cell_type": "code",
   "execution_count": 31,
   "metadata": {
    "collapsed": true
   },
   "outputs": [],
   "source": [
    "from sympy.physics.quantum.qubit import Qubit, IntQubit, IntQubitBra, matrix_to_qubit\n",
    "from sympy.physics.quantum.dagger import Dagger\n",
    "from sympy.physics.quantum.gate import Z\n",
    "from sympy.physics.quantum.represent import represent"
   ]
  },
  {
   "cell_type": "markdown",
   "metadata": {},
   "source": [
    "## Qubits "
   ]
  },
  {
   "cell_type": "markdown",
   "metadata": {},
   "source": [
    "### We could have also called \n",
    "Alternatively we could have also done\n",
    "from sympy.physics.quantum.qubit import Qubit\n"
   ]
  },
  {
   "cell_type": "code",
   "execution_count": 16,
   "metadata": {},
   "outputs": [
    {
     "data": {
      "text/plain": [
       "|000>"
      ]
     },
     "execution_count": 16,
     "metadata": {},
     "output_type": "execute_result"
    }
   ],
   "source": [
    "Qubit(0,0,0)"
   ]
  },
  {
   "cell_type": "code",
   "execution_count": 17,
   "metadata": {},
   "outputs": [
    {
     "data": {
      "text/plain": [
       "|0101>"
      ]
     },
     "execution_count": 17,
     "metadata": {},
     "output_type": "execute_result"
    }
   ],
   "source": [
    "q = Qubit('0101')\n",
    "q"
   ]
  },
  {
   "cell_type": "code",
   "execution_count": 18,
   "metadata": {},
   "outputs": [
    {
     "data": {
      "text/plain": [
       "4"
      ]
     },
     "execution_count": 18,
     "metadata": {},
     "output_type": "execute_result"
    }
   ],
   "source": [
    "q.nqubits"
   ]
  },
  {
   "cell_type": "code",
   "execution_count": 19,
   "metadata": {},
   "outputs": [
    {
     "data": {
      "text/plain": [
       "4"
      ]
     },
     "execution_count": 19,
     "metadata": {},
     "output_type": "execute_result"
    }
   ],
   "source": [
    "len(q)"
   ]
  },
  {
   "cell_type": "code",
   "execution_count": 20,
   "metadata": {},
   "outputs": [
    {
     "data": {
      "text/plain": [
       "4"
      ]
     },
     "execution_count": 20,
     "metadata": {},
     "output_type": "execute_result"
    }
   ],
   "source": [
    "q.dimension"
   ]
  },
  {
   "cell_type": "code",
   "execution_count": 21,
   "metadata": {},
   "outputs": [
    {
     "data": {
      "text/plain": [
       "|0111>"
      ]
     },
     "execution_count": 21,
     "metadata": {},
     "output_type": "execute_result"
    }
   ],
   "source": [
    "q.flip(1)"
   ]
  },
  {
   "cell_type": "code",
   "execution_count": 22,
   "metadata": {},
   "outputs": [
    {
     "data": {
      "text/plain": [
       "(0, 1, 0, 1)"
      ]
     },
     "execution_count": 22,
     "metadata": {},
     "output_type": "execute_result"
    }
   ],
   "source": [
    "q.qubit_values"
   ]
  },
  {
   "cell_type": "code",
   "execution_count": 23,
   "metadata": {},
   "outputs": [
    {
     "data": {
      "text/plain": [
       "<0101|"
      ]
     },
     "execution_count": 23,
     "metadata": {},
     "output_type": "execute_result"
    }
   ],
   "source": [
    "Dagger(q)"
   ]
  },
  {
   "cell_type": "code",
   "execution_count": 24,
   "metadata": {},
   "outputs": [
    {
     "data": {
      "text/plain": [
       "sympy.physics.quantum.qubit.QubitBra"
      ]
     },
     "execution_count": 24,
     "metadata": {},
     "output_type": "execute_result"
    }
   ],
   "source": [
    "type(Dagger(q))"
   ]
  },
  {
   "cell_type": "code",
   "execution_count": 25,
   "metadata": {},
   "outputs": [
    {
     "data": {
      "text/plain": [
       "<0101|0101>"
      ]
     },
     "execution_count": 25,
     "metadata": {},
     "output_type": "execute_result"
    }
   ],
   "source": [
    "ip = Dagger(q)*q\n",
    "ip"
   ]
  },
  {
   "cell_type": "code",
   "execution_count": 26,
   "metadata": {},
   "outputs": [
    {
     "data": {
      "text/plain": [
       "|5>"
      ]
     },
     "execution_count": 26,
     "metadata": {},
     "output_type": "execute_result"
    }
   ],
   "source": [
    "# Create a qubit for integer 5\n",
    "q = IntQubit(Qubit('101'))\n",
    "q"
   ]
  },
  {
   "cell_type": "code",
   "execution_count": 27,
   "metadata": {},
   "outputs": [
    {
     "data": {
      "text/plain": [
       "5"
      ]
     },
     "execution_count": 27,
     "metadata": {},
     "output_type": "execute_result"
    }
   ],
   "source": [
    "q.as_int()"
   ]
  },
  {
   "cell_type": "code",
   "execution_count": 28,
   "metadata": {},
   "outputs": [
    {
     "data": {
      "text/plain": [
       "3"
      ]
     },
     "execution_count": 28,
     "metadata": {},
     "output_type": "execute_result"
    }
   ],
   "source": [
    "q.nqubits"
   ]
  },
  {
   "cell_type": "code",
   "execution_count": 29,
   "metadata": {},
   "outputs": [
    {
     "data": {
      "text/plain": [
       "(1, 0, 1)"
      ]
     },
     "execution_count": 29,
     "metadata": {},
     "output_type": "execute_result"
    }
   ],
   "source": [
    "q.qubit_values"
   ]
  },
  {
   "cell_type": "code",
   "execution_count": 32,
   "metadata": {},
   "outputs": [
    {
     "data": {
      "text/plain": [
       "|01>"
      ]
     },
     "execution_count": 32,
     "metadata": {},
     "output_type": "execute_result"
    }
   ],
   "source": [
    "# Represent a state and then go back to its qubit form\n",
    "q = Qubit('01')\n",
    "matrix_to_qubit(represent(q))"
   ]
  },
  {
   "cell_type": "code",
   "execution_count": 33,
   "metadata": {
    "collapsed": true
   },
   "outputs": [],
   "source": [
    "# measure all, matrix to density\n",
    "from sympy.physics.quantum.qubit import Qubit, measure_all, measure_partial, measure_all_oneshot, measure_partial_oneshot\n",
    "from sympy.physics.quantum.gate import H, X, Y, Z\n",
    "from sympy.physics.quantum.qapply import qapply"
   ]
  },
  {
   "cell_type": "code",
   "execution_count": 34,
   "metadata": {},
   "outputs": [
    {
     "data": {
      "text/plain": [
       "H(0)*H(1)*|00>"
      ]
     },
     "execution_count": 34,
     "metadata": {},
     "output_type": "execute_result"
    }
   ],
   "source": [
    "c = H(0)*H(1)*Qubit('00')\n",
    "c"
   ]
  },
  {
   "cell_type": "code",
   "execution_count": 35,
   "metadata": {},
   "outputs": [
    {
     "data": {
      "text/plain": [
       "[(|00>, 1/4), (|01>, 1/4), (|10>, 1/4), (|11>, 1/4)]"
      ]
     },
     "execution_count": 35,
     "metadata": {},
     "output_type": "execute_result"
    }
   ],
   "source": [
    "q = qapply(c) \n",
    "measure_all(q)"
   ]
  },
  {
   "cell_type": "code",
   "execution_count": 36,
   "metadata": {},
   "outputs": [
    {
     "data": {
      "text/plain": [
       "[(sqrt(2)*|00>/2 + sqrt(2)*|10>/2, 1/2),\n",
       " (sqrt(2)*|01>/2 + sqrt(2)*|11>/2, 1/2)]"
      ]
     },
     "execution_count": 36,
     "metadata": {},
     "output_type": "execute_result"
    }
   ],
   "source": [
    "# measure partial\n",
    "measure_partial(q, (0,))"
   ]
  },
  {
   "cell_type": "code",
   "execution_count": 37,
   "metadata": {},
   "outputs": [
    {
     "data": {
      "text/plain": [
       "sqrt(2)*|01>/2 + sqrt(2)*|11>/2"
      ]
     },
     "execution_count": 37,
     "metadata": {},
     "output_type": "execute_result"
    }
   ],
   "source": [
    "# measure partial oneshot\n",
    "measure_partial_oneshot(q, (0,))"
   ]
  },
  {
   "cell_type": "code",
   "execution_count": 38,
   "metadata": {},
   "outputs": [
    {
     "data": {
      "text/plain": [
       "|10>"
      ]
     },
     "execution_count": 38,
     "metadata": {},
     "output_type": "execute_result"
    }
   ],
   "source": [
    "# measure all one shot\n",
    "measure_all_oneshot(q)"
   ]
  },
  {
   "cell_type": "markdown",
   "metadata": {},
   "source": [
    "## Shor's Algorithm \n",
    "\n",
    "From [Wikipedia](https://en.wikipedia.org/wiki/Shor%27s_algorithm), [**Also** read Peter Shor's arxiv research paper](https://arxiv.org/abs/quant-ph/9508027)\n",
    "\n",
    "Shor's algorithm, named after mathematician Peter Shor, is a quantum algorithm (an algorithm that runs on a quantum computer) for integer factorization formulated in 1994. Informally it solves the following problem: given an integer N, find its prime factors.\n",
    "\n",
    "On a quantum computer, to factor an integer N, Shor's algorithm runs in polynomial time (the time taken is polynomial in log N, which is the size of the input).[1] Specifically it takes quantum gates of order O((log N)2(log log N)(log log log N)) using fast multiplication,[2] demonstrating that the integer factorization problem can be efficiently solved on a quantum computer and is thus in the complexity class BQP. This is substantially faster than the most efficient known classical factoring algorithm, the general number field sieve, which works in sub-exponential time – about O(e1.9 (log N)1/3 (log log N)2/3).[3] The efficiency of Shor's algorithm is due to the efficiency of the quantum Fourier transform, and modular exponentiation by repeated squarings.\n",
    "\n",
    "If a quantum computer with a sufficient number of qubits could operate without succumbing to noise and other quantum decoherence phenomena, Shor's algorithm could be used to break public-key cryptography schemes such as the widely used RSA scheme. RSA is based on the assumption that factoring large numbers is computationally intractable. So far as is known, this assumption is valid for classical (non-quantum) computers; no classical algorithm is known that can factor in polynomial time. However, Shor's algorithm shows that factoring is efficient on an ideal quantum computer, so it may be feasible to defeat RSA by constructing a large quantum computer. It was also a powerful motivator for the design and construction of quantum computers and for the study of new quantum computer algorithms. It has also facilitated research on new cryptosystems that are secure from quantum computers, collectively called post-quantum cryptography.\n",
    "\n",
    "In 2001, Shor's algorithm was demonstrated by a group at IBM, who factored 15 into 3 × 5, using an NMR implementation of a quantum computer with 7 qubits.[4] After IBM's implementation, two independent groups implemented Shor's algorithm using photonic qubits, emphasizing that multi-qubit entanglement was observed when running the Shor's algorithm circuits.[5][6] In 2012, the factorization of 15 was performed with solid-state qubits.[7] Also in 2012, the factorization of 21 was achieved, setting the record for the largest number factored with Shor's algorithm.[8] In April 2012, the factorization of 143 was achieved, although this used adiabatic quantum computation rather than Shor's algorithm.[9] In November 2014, it was discovered that this 2012 adiabatic quantum computation had also factored larger numbers, the largest being 56153.[10][11]"
   ]
  },
  {
   "cell_type": "markdown",
   "metadata": {},
   "source": [
    "### Plain english?\n",
    "\n",
    "Let's say you have two prime numers. $p = 17$ and $q = 19$, then multiply these as follows as $pq = 323$. \n",
    "Now lets subtract these two by 1 and multiply that as in:\n",
    "\n",
    "$$ (p-1)*(q-1) = 16*18 = 288$$."
   ]
  },
  {
   "cell_type": "code",
   "execution_count": 54,
   "metadata": {},
   "outputs": [
    {
     "name": "stdout",
     "output_type": "stream",
     "text": [
      "Product of p and q is : 323\n",
      "Product of p-1 and q-1 is : 288\n"
     ]
    }
   ],
   "source": [
    "p = 17\n",
    "q = 19\n",
    "A = p*q\n",
    "B = (p-1)*(q-1)\n",
    "print(\"Product of p and q is :\",A)\n",
    "print(\"Product of p-1 and q-1 is :\", B)"
   ]
  },
  {
   "cell_type": "markdown",
   "metadata": {},
   "source": [
    "#### What next?\n",
    "Now, in a range of 1 and B(288), pick any number such that its LCD (lowest common denimonator) with A(323) is 1.\n",
    "Let's say we pick 9?"
   ]
  },
  {
   "cell_type": "code",
   "execution_count": null,
   "metadata": {},
   "outputs": [],
   "source": [
    "p = 17\n",
    "q = 19\n",
    "A = p*q\n",
    "B = (p-1)*(q-1)  "
   ]
  },
  {
   "cell_type": "code",
   "execution_count": 71,
   "metadata": {},
   "outputs": [
    {
     "ename": "SyntaxError",
     "evalue": "invalid syntax (<ipython-input-71-5bcb7122bf0f>, line 1)",
     "output_type": "error",
     "traceback": [
      "\u001b[0;36m  File \u001b[0;32m\"<ipython-input-71-5bcb7122bf0f>\"\u001b[0;36m, line \u001b[0;32m1\u001b[0m\n\u001b[0;31m    for in in range(1, 288):\u001b[0m\n\u001b[0m         ^\u001b[0m\n\u001b[0;31mSyntaxError\u001b[0m\u001b[0;31m:\u001b[0m invalid syntax\n"
     ]
    }
   ],
   "source": [
    "for i in range(1, 288):\n",
    "    if i%i ==0:\n",
    "        count = count + 1\n",
    "if count > 0:\n",
    "    print(\"Number is not prime\")\n",
    "    else:\n",
    "        print(\"Number is prime!\")"
   ]
  },
  {
   "cell_type": "code",
   "execution_count": 80,
   "metadata": {},
   "outputs": [
    {
     "name": "stdout",
     "output_type": "stream",
     "text": [
      "Please enter a number :34\n",
      "Number is prime\n"
     ]
    }
   ],
   "source": [
    "# Now we calculate our key with these numbers\n",
    "n = int(input(\"Please enter a number :\"))\n",
    "count = 0\n",
    "for i in range(3, int(n**0.5)+1):\n",
    "        if n%i == 0 : # You want to check if n is divisible by i\n",
    "            count = count + 1\n",
    "            # No need of count = count + 0 here since it does nothing\n",
    "\n",
    "if count > 0 : \n",
    "    print(\"Number is not prime\") # Prime if count > 0 & not count > 1\n",
    "else: \n",
    "    print(\"Number is prime\")"
   ]
  },
  {
   "cell_type": "code",
   "execution_count": null,
   "metadata": {},
   "outputs": [],
   "source": [
    "! python shor.py"
   ]
  },
  {
   "cell_type": "raw",
   "metadata": {},
   "source": [
    "\tprojectq\n",
    "\t--------\n",
    "\tImplementation of Shor's algorithm.\n",
    "\tNumber to factor: 15\n",
    "\n",
    "\tFactoring N = 15: 00000001\n",
    "\n",
    "\tBad luck: Found 15 and 1\n",
    "Allocate : 109\n",
    "CCR(0.19634954084936207) : 16\n",
    "CCR(0.39269908169872414) : 32\n",
    "CCR(0.7853981633974483) : 64\n",
    "CCR(1.1780972450961724) : 8\n",
    "CCR(1.3744467859455345) : 16\n",
    "CCR(1.5707963267948966) : 104\n",
    "CCR(1.9634954084936207) : 8\n",
    "CCR(2.1598449493429825) : 16\n",
    "CCR(2.356194490192345) : 24\n",
    "CCR(2.552544031041707) : 16\n",
    "CCR(2.748893571891069) : 32\n",
    "CCR(3.141592653589793) : 192\n",
    "CCR(3.5342917352885173) : 16\n",
    "CCR(3.730641276137879) : 8\n",
    "CCR(3.9269908169872414) : 24\n",
    "CCR(4.123340357836604) : 8\n",
    "CCR(4.319689898685965) : 16\n",
    "CCR(4.71238898038469) : 88\n",
    "CCR(4.908738521234052) : 8\n",
    "CCR(5.105088062083414) : 16\n",
    "CCR(5.497787143782138) : 56\n",
    "CCR(5.890486225480862) : 16\n",
    "CCR(6.086835766330224) : 8\n",
    "CR(0.19634954084936207) : 144\n",
    "CR(0.39269908169872414) : 288\n",
    "CR(0.7853981633974483) : 432\n",
    "CR(1.5707963267948966) : 568\n",
    "CR(10.995574287564276) : 568\n",
    "CR(11.780972450961723) : 432\n",
    "CR(12.173671532660448) : 288\n",
    "CR(12.370021073509811) : 144\n",
    "CR(2.945243112740431) : 64\n",
    "CR(3.141592653589793) : 64\n",
    "CR(4.71238898038469) : 64\n",
    "CR(5.497787143782138) : 64\n",
    "CR(5.890486225480862) : 64\n",
    "CSwap : 32\n",
    "CX : 128\n",
    "Deallocate : 109\n",
    "H : 1408\n",
    "Measure : 9\n",
    "R(0.39269908169872414) : 64\n",
    "R(0.7853981633974483) : 64\n",
    "R(1.5707963267948966) : 64\n",
    "R(3.141592653589793) : 64\n",
    "R(3.3379421944391554) : 64\n",
    "X : 130\n",
    "\n",
    "Max. width (number of qubits) : 11."
   ]
  },
  {
   "cell_type": "raw",
   "metadata": {},
   "source": [
    "\tprojectq\n",
    "\t--------\n",
    "\tImplementation of Shor's algorithm.\n",
    "\tNumber to factor: 21\n",
    "\n",
    "\tFactoring N = 21: 0000000000\n",
    "\n",
    "\tFactors found :-) : 3 * 7 = 21\n",
    "Allocate : 166\n",
    "CCR(0.09817477042468103) : 20\n",
    "CCR(0.19634954084936207) : 40\n",
    "CCR(0.39269908169872414) : 76\n",
    "CCR(0.4908738521234052) : 20\n",
    "CCR(0.7853981633974483) : 96\n",
    "CCR(0.9817477042468103) : 22\n",
    "CCR(1.0799224746714913) : 2\n",
    "CCR(1.1780972450961724) : 30\n",
    "CCR(1.2762720155208536) : 20\n",
    "CCR(1.5707963267948966) : 189\n",
    "CCR(1.6689710972195777) : 18\n",
    "CCR(1.8653206380689396) : 20\n",
    "CCR(1.9634954084936207) : 43\n",
    "CCR(2.1598449493429825) : 2\n",
    "CCR(2.356194490192345) : 53\n",
    "CCR(2.552544031041707) : 30\n",
    "CCR(2.945243112740431) : 9\n",
    "CCR(3.141592653589793) : 300\n",
    "CCR(3.3379421944391554) : 18\n",
    "CCR(3.730641276137879) : 30\n",
    "CCR(3.9269908169872414) : 73\n",
    "CCR(4.123340357836604) : 1\n",
    "CCR(4.319689898685965) : 23\n",
    "CCR(4.417864669110646) : 10\n",
    "CCR(4.614214209960008) : 9\n",
    "CCR(4.71238898038469) : 111\n",
    "CCR(5.006913291658733) : 10\n",
    "CCR(5.105088062083414) : 30\n",
    "CCR(5.203262832508095) : 1\n",
    "CCR(5.3014376029327765) : 11\n",
    "CCR(5.497787143782138) : 48\n",
    "CCR(5.792311455056181) : 10\n",
    "CCR(5.890486225480862) : 38\n",
    "CCR(6.086835766330224) : 20\n",
    "CCR(6.185010536754905) : 10\n",
    "CR(0.09817477042468103) : 220\n",
    "CR(0.19634954084936207) : 440\n",
    "CR(0.39269908169872414) : 660\n",
    "CR(0.7853981633974483) : 880\n",
    "CR(1.5707963267948966) : 1191\n",
    "CR(1.9634954084936207) : 100\n",
    "CR(10.995574287564276) : 1091\n",
    "CR(11.780972450961723) : 880\n",
    "CR(12.173671532660448) : 660\n",
    "CR(12.370021073509811) : 440\n",
    "CR(12.468195843934492) : 220\n",
    "CR(2.061670178918302) : 100\n",
    "CR(3.141592653589793) : 100\n",
    "CR(3.9269908169872414) : 100\n",
    "CR(4.123340357836604) : 100\n",
    "CSwap : 50\n",
    "CX : 200\n",
    "Deallocate : 166\n",
    "H : 2602\n",
    "Measure : 11\n",
    "R(2.1598449493429825) : 100\n",
    "R(2.356194490192345) : 100\n",
    "R(3.141592653589793) : 100\n",
    "R(4.221515128261284) : 100\n",
    "R(4.319689898685965) : 100\n",
    "R(4.71238898038469) : 100\n",
    "X : 201\n",
    "\n",
    "Max. width (number of qubits) : 13."
   ]
  }
 ],
 "metadata": {
  "kernelspec": {
   "display_name": "Python 3",
   "language": "python",
   "name": "python3"
  },
  "language_info": {
   "codemirror_mode": {
    "name": "ipython",
    "version": 3
   },
   "file_extension": ".py",
   "mimetype": "text/x-python",
   "name": "python",
   "nbconvert_exporter": "python",
   "pygments_lexer": "ipython3",
   "version": "3.6.1"
  }
 },
 "nbformat": 4,
 "nbformat_minor": 2
}
