{
 "cells": [
  {
   "cell_type": "markdown",
   "metadata": {},
   "source": [
    "# Getting Tensor Comprehensions\n",
    "\n",
    "```shell\n",
    "$ conda install -y -c pytorch -c tensorcomp tensor_comprehensions\n",
    "```\n",
    "Note: Won;t work on your mac, this is my Ubuntu server."
   ]
  },
  {
   "cell_type": "code",
   "execution_count": 1,
   "metadata": {
    "collapsed": true
   },
   "outputs": [],
   "source": [
    "import tensor_comprehensions as tc\n",
    "import torch"
   ]
  },
  {
   "cell_type": "code",
   "execution_count": 2,
   "metadata": {
    "collapsed": true
   },
   "outputs": [],
   "source": [
    "lang = \"\"\"\n",
    "def matmul(float(M,N) A, float(N,K) B) -> (output) {\n",
    "  output(i, j) +=! A(i, kk) * B(kk, j)\n",
    "}\n",
    "\"\"\""
   ]
  },
  {
   "cell_type": "code",
   "execution_count": 3,
   "metadata": {},
   "outputs": [
    {
     "name": "stdout",
     "output_type": "stream",
     "text": [
      "[WARNING]: No mapping options passed, 'naive' type mapping options will be used and will likely have bad performance. See help(your_layer.__call__) for setting mapping options.\n"
     ]
    }
   ],
   "source": [
    "matmul = tc.define(lang, name=\"matmul\")\n",
    "mat1, mat2 = torch.randn(3, 4).cuda(), torch.randn(4, 5).cuda()\n",
    "out = matmul(mat1, mat2)"
   ]
  },
  {
   "cell_type": "code",
   "execution_count": 4,
   "metadata": {},
   "outputs": [
    {
     "data": {
      "text/plain": [
       "Variable containing:\n",
       " 4.4190  6.8120  0.6187  1.4199  2.9564\n",
       "-0.1778  3.2029  0.6903  1.1478  3.6830\n",
       "-0.1244 -0.2070  2.8454 -0.1517  2.3613\n",
       "[torch.cuda.FloatTensor of size 3x5 (GPU 0)]"
      ]
     },
     "execution_count": 4,
     "metadata": {},
     "output_type": "execute_result"
    }
   ],
   "source": [
    "out"
   ]
  },
  {
   "cell_type": "markdown",
   "metadata": {},
   "source": [
    "## PyTorch layers in Tensor Comprehensions "
   ]
  },
  {
   "cell_type": "markdown",
   "metadata": {},
   "source": [
    "### Use of mapping option\n",
    "\n",
    "Default Mapping: We provide various default options that can be chosen to closely represent the kernel. The defaults provided are:\n",
    "\n",
    "- `pointwise, color=red`: if kernel resembles a pointwise operation\n",
    "- `mlp`: if kernel resembles an Linear layer operation\n",
    "- `conv`: if kernel resembles a convolution operation\n",
    "- `group_conv`: if kernel resembles a group convolution operation\n",
    "- `naive`: if none of the above, then chose naive default <-- This is why we get the warning\n",
    "<font color='red'>bar</font>"
   ]
  },
  {
   "cell_type": "code",
   "execution_count": 5,
   "metadata": {
    "collapsed": true
   },
   "outputs": [],
   "source": [
    "# Specifying mapping options\n",
    "matmul = tc.define(lang, name=\"matmul\")\n",
    "mat1, mat2 = torch.randn(100, 400).cuda(), torch.randn(400, 500).cuda()\n",
    "out2 = matmul(mat1, mat2, options=tc.Options(\"mlp\"))"
   ]
  },
  {
   "cell_type": "code",
   "execution_count": 6,
   "metadata": {},
   "outputs": [
    {
     "data": {
      "text/plain": [
       "Variable containing:\n",
       "-3.0480e+01 -1.0359e+01  2.3496e+01  ...  -2.3371e+00  2.3665e+01  5.3475e+00\n",
       " 1.5563e+01  1.9449e+01 -3.7515e+01  ...   4.1372e+01  2.6417e+01 -2.4326e+01\n",
       "-4.2722e+00  4.8939e+00 -2.9344e+01  ...  -2.0365e+01 -1.1882e+01  1.9065e+01\n",
       "                ...                   ⋱                   ...                \n",
       "-1.1980e+01 -3.4460e+01  1.1720e+01  ...  -1.0116e+01  3.3799e+00  1.1610e+01\n",
       "-1.0537e+01 -1.8616e+01 -2.7911e+01  ...  -1.1084e+00 -6.0975e+00  8.4499e-01\n",
       " 1.1400e+00 -2.0821e+01  3.2536e+01  ...  -4.1840e+00  2.0562e+01  2.9990e+01\n",
       "[torch.cuda.FloatTensor of size 100x500 (GPU 0)]"
      ]
     },
     "execution_count": 6,
     "metadata": {},
     "output_type": "execute_result"
    }
   ],
   "source": [
    "out2"
   ]
  },
  {
   "cell_type": "code",
   "execution_count": 7,
   "metadata": {},
   "outputs": [
    {
     "name": "stdout",
     "output_type": "stream",
     "text": [
      "[WARNING]: No mapping options passed, 'naive' type mapping options will be used and will likely have bad performance. See help(your_layer.__call__) for setting mapping options.\n",
      "[WARNING]: No mapping options passed, 'naive' type mapping options will be used and will likely have bad performance. See help(your_layer.__call__) for setting mapping options.\n",
      "Variable containing:\n",
      " 0.8828  2.3928  3.0727  1.5787  0.4792\n",
      "-1.6771 -1.3249  1.4003 -0.7534 -0.1971\n",
      " 1.8660  3.4502  3.7494  2.9027  0.3870\n",
      "[torch.cuda.FloatTensor of size 3x5 (GPU 0)]\n",
      "\n",
      "Variable containing:\n",
      "-3.0021e+01  3.1965e-01  4.9152e+00  ...  -5.6621e-01  1.0574e+01  1.6474e+01\n",
      "-4.2599e+00 -1.4569e+01 -1.3952e+01  ...  -9.8632e+00 -3.9812e+01  4.8284e+01\n",
      " 1.7316e+01  2.1750e+01  6.8386e+00  ...  -6.8485e+00  2.0356e+01 -6.8485e+00\n",
      "                ...                   ⋱                   ...                \n",
      " 2.1712e+01  1.7247e+01  5.6285e+00  ...   1.1536e+01  2.5222e+01 -1.5900e+00\n",
      "-7.0703e+00  2.4916e+00 -1.9119e+01  ...  -2.3795e+00  1.4790e+01 -2.1747e+01\n",
      "-3.1883e+01 -1.6752e+01  2.4744e+01  ...  -6.8101e+00  1.4075e+00 -2.0288e+01\n",
      "[torch.cuda.FloatTensor of size 100x500 (GPU 0)]\n",
      "\n"
     ]
    }
   ],
   "source": [
    "# Using reduction operators\n",
    "# providing different input sizes for the same comprehension\n",
    "\n",
    "matmul = tc.define(lang, name=\"matmul\")\n",
    "mat1, mat2 = torch.randn(3, 4).cuda(), torch.randn(4, 5).cuda()\n",
    "out = matmul(mat1, mat2)\n",
    "\n",
    "# different input sizes\n",
    "mat3, mat4 = torch.randn(100, 400).cuda(), torch.randn(400, 500).cuda()\n",
    "out2 = matmul(mat3, mat4)\n",
    "print(out)\n",
    "print(out2)"
   ]
  },
  {
   "cell_type": "markdown",
   "metadata": {},
   "source": [
    "#### Multiple TC definitions\n",
    "\n",
    "Let’s say you want to define all of your TCs in one string and later use that string for running different operations defined in the string. You an do so easily. You can define a <font color='blue'>lang</font> variable that holds the TC definition for all your operations. Every time you want to run a different operation, you can make a <font color='blue'>tc.define</font> call on the <font color='blue'>lang</font> variable, specify the <font color='blue'>name</font> corresponding to the operation definition and get the TC layer for it. Below is an example for how to do this:"
   ]
  },
  {
   "cell_type": "code",
   "execution_count": 8,
   "metadata": {},
   "outputs": [
    {
     "name": "stdout",
     "output_type": "stream",
     "text": [
      "[WARNING]: No mapping options passed, 'naive' type mapping options will be used and will likely have bad performance. See help(your_layer.__call__) for setting mapping options.\n",
      "[WARNING]: No mapping options passed, 'naive' type mapping options will be used and will likely have bad performance. See help(your_layer.__call__) for setting mapping options.\n"
     ]
    }
   ],
   "source": [
    "lang = \"\"\"\n",
    "def matmul(float(M,N) A, float(N,K) B) -> (output) {\n",
    "  output(i, j) +=! A(i, kk) * B(kk, j)\n",
    "}\n",
    "def abs(float(M, N) A) -> (O1) {\n",
    "  O1(m, n) = fabs(A(m, n))\n",
    "}\n",
    "\"\"\"\n",
    "matmul = tc.define(lang, name=\"matmul\")\n",
    "mat1, mat2 = torch.randn(3, 4).cuda(), torch.randn(4, 5).cuda()\n",
    "out = matmul(mat1, mat2)\n",
    "\n",
    "abs = tc.define(lang, name=\"abs\")\n",
    "A = torch.randn(3, 4).cuda()\n",
    "out = abs(A)"
   ]
  },
  {
   "cell_type": "code",
   "execution_count": 9,
   "metadata": {},
   "outputs": [
    {
     "data": {
      "text/plain": [
       "Variable containing:\n",
       " 0.7115  0.0360  0.5991  0.7690\n",
       " 2.6534  0.5275  0.6045  1.1807\n",
       " 0.2736  0.2717  0.8221  1.3991\n",
       "[torch.cuda.FloatTensor of size 3x4 (GPU 0)]"
      ]
     },
     "execution_count": 9,
     "metadata": {},
     "output_type": "execute_result"
    }
   ],
   "source": [
    "out"
   ]
  },
  {
   "cell_type": "markdown",
   "metadata": {
    "collapsed": true
   },
   "source": [
    "#### Writing layers with Scalars\n",
    "\n",
    "- **Option 1**: Pass a constants dictionary to the tc.define call as demo'ed below"
   ]
  },
  {
   "cell_type": "code",
   "execution_count": 10,
   "metadata": {
    "collapsed": true
   },
   "outputs": [],
   "source": [
    "lang = \"\"\"\n",
    "def avgpool(float(B, C, H, W) input) -> (output) {{\n",
    "    output(b, c, h, w) += input(b, c, h * {sH} + kh, w * {sW} + kw) where kh in 0:{kH}, kw in 0:{kW}\n",
    "}}\n",
    "\"\"\"\n",
    "avgpool = tc.define(lang, name=\"avgpool\", constants={\"sH\":1, \"sW\":1, \"kH\":2, \"kW\":2})\n",
    "inp = torch.ones(32, 3, 10, 10).cuda()\n",
    "out4 = avgpool(inp, options=tc.Options(\"mlp\"))"
   ]
  },
  {
   "cell_type": "code",
   "execution_count": 11,
   "metadata": {},
   "outputs": [
    {
     "data": {
      "text/plain": [
       "Variable containing:\n",
       "(0 ,0 ,.,.) = \n",
       "   4   4   4  ...    4   4   4\n",
       "   4   4   4  ...    4   4   4\n",
       "   4   4   4  ...    4   4   4\n",
       "     ...       ⋱       ...    \n",
       "   4   4   4  ...    4   4   4\n",
       "   4   4   4  ...    4   4   4\n",
       "   4   4   4  ...    4   4   4\n",
       "\n",
       "(0 ,1 ,.,.) = \n",
       "   4   4   4  ...    4   4   4\n",
       "   4   4   4  ...    4   4   4\n",
       "   4   4   4  ...    4   4   4\n",
       "     ...       ⋱       ...    \n",
       "   4   4   4  ...    4   4   4\n",
       "   4   4   4  ...    4   4   4\n",
       "   4   4   4  ...    4   4   4\n",
       "\n",
       "(0 ,2 ,.,.) = \n",
       "   4   4   4  ...    4   4   4\n",
       "   4   4   4  ...    4   4   4\n",
       "   4   4   4  ...    4   4   4\n",
       "     ...       ⋱       ...    \n",
       "   4   4   4  ...    4   4   4\n",
       "   4   4   4  ...    4   4   4\n",
       "   4   4   4  ...    4   4   4\n",
       "     ⋮ \n",
       "\n",
       "(1 ,0 ,.,.) = \n",
       "   4   4   4  ...    4   4   4\n",
       "   4   4   4  ...    4   4   4\n",
       "   4   4   4  ...    4   4   4\n",
       "     ...       ⋱       ...    \n",
       "   4   4   4  ...    4   4   4\n",
       "   4   4   4  ...    4   4   4\n",
       "   4   4   4  ...    4   4   4\n",
       "\n",
       "(1 ,1 ,.,.) = \n",
       "   4   4   4  ...    4   4   4\n",
       "   4   4   4  ...    4   4   4\n",
       "   4   4   4  ...    4   4   4\n",
       "     ...       ⋱       ...    \n",
       "   4   4   4  ...    4   4   4\n",
       "   4   4   4  ...    4   4   4\n",
       "   4   4   4  ...    4   4   4\n",
       "\n",
       "(1 ,2 ,.,.) = \n",
       "   4   4   4  ...    4   4   4\n",
       "   4   4   4  ...    4   4   4\n",
       "   4   4   4  ...    4   4   4\n",
       "     ...       ⋱       ...    \n",
       "   4   4   4  ...    4   4   4\n",
       "   4   4   4  ...    4   4   4\n",
       "   4   4   4  ...    4   4   4\n",
       "     ⋮ \n",
       "\n",
       "(2 ,0 ,.,.) = \n",
       "   4   4   4  ...    4   4   4\n",
       "   4   4   4  ...    4   4   4\n",
       "   4   4   4  ...    4   4   4\n",
       "     ...       ⋱       ...    \n",
       "   4   4   4  ...    4   4   4\n",
       "   4   4   4  ...    4   4   4\n",
       "   4   4   4  ...    4   4   4\n",
       "\n",
       "(2 ,1 ,.,.) = \n",
       "   4   4   4  ...    4   4   4\n",
       "   4   4   4  ...    4   4   4\n",
       "   4   4   4  ...    4   4   4\n",
       "     ...       ⋱       ...    \n",
       "   4   4   4  ...    4   4   4\n",
       "   4   4   4  ...    4   4   4\n",
       "   4   4   4  ...    4   4   4\n",
       "\n",
       "(2 ,2 ,.,.) = \n",
       "   4   4   4  ...    4   4   4\n",
       "   4   4   4  ...    4   4   4\n",
       "   4   4   4  ...    4   4   4\n",
       "     ...       ⋱       ...    \n",
       "   4   4   4  ...    4   4   4\n",
       "   4   4   4  ...    4   4   4\n",
       "   4   4   4  ...    4   4   4\n",
       "...   \n",
       "     ⋮ \n",
       "\n",
       "(29,0 ,.,.) = \n",
       "   4   4   4  ...    4   4   4\n",
       "   4   4   4  ...    4   4   4\n",
       "   4   4   4  ...    4   4   4\n",
       "     ...       ⋱       ...    \n",
       "   4   4   4  ...    4   4   4\n",
       "   4   4   4  ...    4   4   4\n",
       "   4   4   4  ...    4   4   4\n",
       "\n",
       "(29,1 ,.,.) = \n",
       "   4   4   4  ...    4   4   4\n",
       "   4   4   4  ...    4   4   4\n",
       "   4   4   4  ...    4   4   4\n",
       "     ...       ⋱       ...    \n",
       "   4   4   4  ...    4   4   4\n",
       "   4   4   4  ...    4   4   4\n",
       "   4   4   4  ...    4   4   4\n",
       "\n",
       "(29,2 ,.,.) = \n",
       "   4   4   4  ...    4   4   4\n",
       "   4   4   4  ...    4   4   4\n",
       "   4   4   4  ...    4   4   4\n",
       "     ...       ⋱       ...    \n",
       "   4   4   4  ...    4   4   4\n",
       "   4   4   4  ...    4   4   4\n",
       "   4   4   4  ...    4   4   4\n",
       "     ⋮ \n",
       "\n",
       "(30,0 ,.,.) = \n",
       "   4   4   4  ...    4   4   4\n",
       "   4   4   4  ...    4   4   4\n",
       "   4   4   4  ...    4   4   4\n",
       "     ...       ⋱       ...    \n",
       "   4   4   4  ...    4   4   4\n",
       "   4   4   4  ...    4   4   4\n",
       "   4   4   4  ...    4   4   4\n",
       "\n",
       "(30,1 ,.,.) = \n",
       "   4   4   4  ...    4   4   4\n",
       "   4   4   4  ...    4   4   4\n",
       "   4   4   4  ...    4   4   4\n",
       "     ...       ⋱       ...    \n",
       "   4   4   4  ...    4   4   4\n",
       "   4   4   4  ...    4   4   4\n",
       "   4   4   4  ...    4   4   4\n",
       "\n",
       "(30,2 ,.,.) = \n",
       "   4   4   4  ...    4   4   4\n",
       "   4   4   4  ...    4   4   4\n",
       "   4   4   4  ...    4   4   4\n",
       "     ...       ⋱       ...    \n",
       "   4   4   4  ...    4   4   4\n",
       "   4   4   4  ...    4   4   4\n",
       "   4   4   4  ...    4   4   4\n",
       "     ⋮ \n",
       "\n",
       "(31,0 ,.,.) = \n",
       "   4   4   4  ...    4   4   4\n",
       "   4   4   4  ...    4   4   4\n",
       "   4   4   4  ...    4   4   4\n",
       "     ...       ⋱       ...    \n",
       "   4   4   4  ...    4   4   4\n",
       "   4   4   4  ...    4   4   4\n",
       "   4   4   4  ...    4   4   4\n",
       "\n",
       "(31,1 ,.,.) = \n",
       "   4   4   4  ...    4   4   4\n",
       "   4   4   4  ...    4   4   4\n",
       "   4   4   4  ...    4   4   4\n",
       "     ...       ⋱       ...    \n",
       "   4   4   4  ...    4   4   4\n",
       "   4   4   4  ...    4   4   4\n",
       "   4   4   4  ...    4   4   4\n",
       "\n",
       "(31,2 ,.,.) = \n",
       "   4   4   4  ...    4   4   4\n",
       "   4   4   4  ...    4   4   4\n",
       "   4   4   4  ...    4   4   4\n",
       "     ...       ⋱       ...    \n",
       "   4   4   4  ...    4   4   4\n",
       "   4   4   4  ...    4   4   4\n",
       "   4   4   4  ...    4   4   4\n",
       "[torch.cuda.FloatTensor of size 32x3x9x9 (GPU 0)]"
      ]
     },
     "execution_count": 11,
     "metadata": {},
     "output_type": "execute_result"
    }
   ],
   "source": [
    "out4"
   ]
  },
  {
   "cell_type": "markdown",
   "metadata": {},
   "source": [
    "#### Option 2 : Format the string using python regex "
   ]
  },
  {
   "cell_type": "code",
   "execution_count": 12,
   "metadata": {},
   "outputs": [
    {
     "name": "stdout",
     "output_type": "stream",
     "text": [
      "[WARNING]: No mapping options passed, 'naive' type mapping options will be used and will likely have bad performance. See help(your_layer.__call__) for setting mapping options.\n"
     ]
    }
   ],
   "source": [
    "import re\n",
    "LANG=\"\"\"\n",
    "def avgpool(float(B, C, H, W) input) -> (output) {\n",
    "    output(b, c, h, w) += input(b, c, h * <sh> + kh, w * <sw> + kw) where kh in 0:<kH>, kw in 0:<kW>\n",
    "}\n",
    "\"\"\"\n",
    "sH, sW, kH, kW = 1, 1, 2, 2\n",
    "LANG = re.sub('<sh>', str(sH), LANG)\n",
    "LANG = re.sub('<sw>', str(sW), LANG)\n",
    "LANG = re.sub('<kH>', str(kH), LANG)\n",
    "LANG = re.sub('<kW>', str(kW), LANG)\n",
    "avgpool = tc.define(LANG, name=\"avgpool\")\n",
    "inp = torch.ones(1, 1, 4, 4).cuda()\n",
    "out5 = avgpool(inp)"
   ]
  },
  {
   "cell_type": "markdown",
   "metadata": {},
   "source": [
    "### Manually injecting external CUDA code\n",
    "\n",
    "If you have an external efficient CUDA code that you want to use rather than the CUDA code that TC generates, you can inject your code easily. For this, you need to create a string which has the CUDA code you want to inject and you need to pass the name of the kernel and the CUDA code string to the `tc.define` call.\n",
    "\n",
    "As an example:"
   ]
  },
  {
   "cell_type": "code",
   "execution_count": 13,
   "metadata": {},
   "outputs": [
    {
     "name": "stdout",
     "output_type": "stream",
     "text": [
      "[WARNING]: No mapping options passed, 'naive' type mapping options will be used and will likely have bad performance. See help(your_layer.__call__) for setting mapping options.\n"
     ]
    }
   ],
   "source": [
    "lang = \"\"\"\n",
    "def add(float(N) A, float(N) B) -> (output) {\n",
    "    output(i) = A(i) + B(i) + 1\n",
    "}\n",
    "\"\"\"\n",
    "\n",
    "cuda_code = \"\"\"\n",
    "extern \"C\"{\n",
    "__global__ void my_add(float* __restrict__ output, const float* __restrict__ A, const float* __restrict B)\n",
    "{\n",
    "    int t = threadIdx.x;\n",
    "    output[t] = A[t] + B[t];\n",
    "}\n",
    "}\n",
    "\"\"\"\n",
    "\n",
    "add = tc.define(lang, name=\"add\", inject_kernel=\"my_add\", cuda_code=cuda_code)\n",
    "a, b = torch.randn(100).cuda(), torch.randn(100).cuda()\n",
    "out6 = add(a, b, grid=[1, 1, 1], block=[100, 1, 1])"
   ]
  },
  {
   "cell_type": "code",
   "execution_count": 14,
   "metadata": {},
   "outputs": [
    {
     "data": {
      "text/plain": [
       "Variable containing:\n",
       " 1.5874\n",
       " 0.4552\n",
       "-0.2078\n",
       " 1.1713\n",
       "-1.0618\n",
       " 0.4382\n",
       "-1.2206\n",
       "-1.6584\n",
       "-0.5253\n",
       " 0.2965\n",
       " 0.6096\n",
       " 3.1664\n",
       "-0.7341\n",
       "-0.7384\n",
       "-0.2571\n",
       "-2.1293\n",
       " 0.2517\n",
       " 3.5692\n",
       "-1.0520\n",
       "-1.1691\n",
       " 0.9402\n",
       "-0.1988\n",
       "-0.3305\n",
       "-2.9940\n",
       "-0.0040\n",
       " 0.5639\n",
       "-0.2765\n",
       " 1.6709\n",
       " 2.6564\n",
       " 0.6843\n",
       "-0.8549\n",
       "-0.8264\n",
       " 0.2881\n",
       "-0.6200\n",
       "-1.5192\n",
       "-0.2855\n",
       "-0.8486\n",
       " 0.0760\n",
       " 1.2471\n",
       " 1.3496\n",
       "-2.9373\n",
       " 0.1909\n",
       " 0.7367\n",
       " 2.9864\n",
       "-2.4552\n",
       "-0.2387\n",
       " 1.4945\n",
       "-0.4196\n",
       " 0.5897\n",
       " 0.1584\n",
       "-0.5091\n",
       " 0.1469\n",
       " 0.4208\n",
       " 1.4985\n",
       " 0.5420\n",
       "-0.7054\n",
       "-1.7710\n",
       "-0.1103\n",
       "-0.1707\n",
       "-2.4924\n",
       " 1.9609\n",
       " 0.3161\n",
       "-1.4042\n",
       "-1.2554\n",
       " 1.2221\n",
       " 0.0631\n",
       " 1.0591\n",
       "-0.6237\n",
       " 0.4839\n",
       "-0.0996\n",
       " 0.6492\n",
       "-0.1002\n",
       "-1.2970\n",
       "-0.3378\n",
       " 1.1395\n",
       " 0.5586\n",
       " 0.3014\n",
       "-2.0492\n",
       " 0.6551\n",
       " 0.7252\n",
       "-0.6835\n",
       " 1.1143\n",
       "-2.4575\n",
       " 1.4247\n",
       " 0.1678\n",
       "-0.1944\n",
       "-1.4052\n",
       " 3.2134\n",
       " 0.9723\n",
       " 2.3606\n",
       "-0.9835\n",
       "-2.0611\n",
       " 4.5014\n",
       "-1.0328\n",
       " 1.1690\n",
       " 1.5700\n",
       " 0.4216\n",
       "-1.7446\n",
       "-1.5761\n",
       "-0.2709\n",
       "[torch.cuda.FloatTensor of size 100 (GPU 0)]"
      ]
     },
     "execution_count": 14,
     "metadata": {},
     "output_type": "execute_result"
    }
   ],
   "source": [
    "out6"
   ]
  },
  {
   "cell_type": "markdown",
   "metadata": {},
   "source": [
    "### Built-in Functions\n",
    "\n",
    "TC allows using some CUDA built-in functions as well when defining the TC language. During the execution, CUDA API will be called for those built-in functions. For example, let’s say we want to use `fmax` CUDA function in our TC language."
   ]
  },
  {
   "cell_type": "code",
   "execution_count": 15,
   "metadata": {
    "collapsed": true
   },
   "outputs": [],
   "source": [
    "LANG = \"\"\"\n",
    "def relu(float(B,M) I) -> (O1){\n",
    "  O1(b, m) = fmax(I(b, m), 0)\n",
    "}\n",
    "\"\"\"\n",
    "relu = tc.define(LANG, name=\"relu\")\n",
    "inp = torch.randn(100, 128).cuda()\n",
    "out7 = relu(inp, options=tc.Options(\"mlp\"))"
   ]
  },
  {
   "cell_type": "code",
   "execution_count": 16,
   "metadata": {},
   "outputs": [
    {
     "data": {
      "text/plain": [
       "Variable containing:\n",
       " 0.0000  0.2150  1.5466  ...   0.0000  0.0000  0.0000\n",
       " 0.7299  1.5156  1.0762  ...   0.0000  1.2979  0.7923\n",
       " 0.4733  0.0000  0.0459  ...   0.0000  0.0302  0.0000\n",
       "          ...             ⋱             ...          \n",
       " 0.0000  1.4061  0.0000  ...   0.0000  0.0855  0.0000\n",
       " 0.0000  0.0000  0.0000  ...   0.0000  0.9500  0.0000\n",
       " 0.0000  0.1261  0.7098  ...   0.0000  0.1167  0.0000\n",
       "[torch.cuda.FloatTensor of size 100x128 (GPU 0)]"
      ]
     },
     "execution_count": 16,
     "metadata": {},
     "output_type": "execute_result"
    }
   ],
   "source": [
    "out7"
   ]
  },
  {
   "cell_type": "markdown",
   "metadata": {
    "collapsed": true
   },
   "source": [
    "### For more CUDA Math, go here \n",
    "\n",
    "[CUDA Math Doc](http://docs.nvidia.com/cuda/cuda-math-api/group__CUDA__MATH__SINGLE.html#group__CUDA__MATH__SINGLE)\n",
    "\n",
    "## Machine Learning Layers Database\n",
    "\n",
    "There is a database of about 30 machine learning layers that are used across various types of neural networks. \n",
    "\n",
    "If you want to use one of the layers in the database, you can query this database in your code easily. The database can be accessed by calling tc.database. This database is a dictionary of TC name to the TC definition. Each entry in the dictionary looks like: `{tc_name: {\"lang\": language, \"grad\": grad_language}}` where `tc_name` is the name of the operation, `lang` is the tc language describing that operation, `grad` is the TC language describing the gradient of that operation. The `grad` is optional entry."
   ]
  },
  {
   "cell_type": "code",
   "execution_count": null,
   "metadata": {
    "collapsed": true
   },
   "outputs": [],
   "source": [
    "# for instance with tgamma\n",
    "LANG = \"\"\"\n",
    "def relu(float(B,M) I) -> (O1){\n",
    "  O1(b, m) = fmax(I(b, m), 0)\n",
    "}\n",
    "\"\"\"\n",
    "relu = tc.define(LANG, name=\"tgamma\")\n",
    "inp = torch.randn(100, 128).cuda()\n",
    "out8 = relu(inp, options=tc.Options(\"mlp\"))"
   ]
  },
  {
   "cell_type": "markdown",
   "metadata": {},
   "source": [
    "We already have computed the matmul for mat1 and mat2 \n",
    "\n",
    "### Pooling Layers \n",
    "\n",
    "#### Average Pooling"
   ]
  },
  {
   "cell_type": "code",
   "execution_count": 20,
   "metadata": {},
   "outputs": [],
   "source": [
    "LANG = \"\"\"\n",
    "        def avgpool(float(B, C, H, W) input) -> (output) {{\n",
    "            output(b, c, h, w) +=! input(b, c, h * {sH} + kh, w * {sW} + kw) / ({kH} * {kW}) where kh in 0:{kH}, kw in 0:{kW}\n",
    "        }}\n",
    "        \"\"\""
   ]
  },
  {
   "cell_type": "code",
   "execution_count": null,
   "metadata": {
    "collapsed": true
   },
   "outputs": [],
   "source": []
  }
 ],
 "metadata": {
  "kernelspec": {
   "display_name": "Python 3",
   "language": "python",
   "name": "python3"
  },
  "language_info": {
   "codemirror_mode": {
    "name": "ipython",
    "version": 3
   },
   "file_extension": ".py",
   "mimetype": "text/x-python",
   "name": "python",
   "nbconvert_exporter": "python",
   "pygments_lexer": "ipython3",
   "version": "3.6.3"
  }
 },
 "nbformat": 4,
 "nbformat_minor": 2
}
