{
 "cells": [
  {
   "cell_type": "markdown",
   "metadata": {},
   "source": [
    "# Getting Tensor Comprehensions\n",
    "\n",
    "```shell\n",
    "$ conda install -y -c pytorch -c tensorcomp tensor_comprehensions\n",
    "```\n",
    "Note: Won;t work on your mac, this is my Ubuntu server."
   ]
  },
  {
   "cell_type": "code",
   "execution_count": 1,
   "metadata": {
    "collapsed": true
   },
   "outputs": [],
   "source": [
    "import tensor_comprehensions as tc\n",
    "import torch"
   ]
  },
  {
   "cell_type": "code",
   "execution_count": 2,
   "metadata": {
    "collapsed": true
   },
   "outputs": [],
   "source": [
    "lang = \"\"\"\n",
    "def matmul(float(M,N) A, float(N,K) B) -> (output) {\n",
    "  output(i, j) +=! A(i, kk) * B(kk, j)\n",
    "}\n",
    "\"\"\""
   ]
  },
  {
   "cell_type": "code",
   "execution_count": 3,
   "metadata": {},
   "outputs": [
    {
     "name": "stdout",
     "output_type": "stream",
     "text": [
      "[WARNING]: No mapping options passed, 'naive' type mapping options will be used and will likely have bad performance. See help(your_layer.__call__) for setting mapping options.\n"
     ]
    }
   ],
   "source": [
    "matmul = tc.define(lang, name=\"matmul\")\n",
    "mat1, mat2 = torch.randn(3, 4).cuda(), torch.randn(4, 5).cuda()\n",
    "out = matmul(mat1, mat2)"
   ]
  },
  {
   "cell_type": "code",
   "execution_count": 4,
   "metadata": {},
   "outputs": [
    {
     "data": {
      "text/plain": [
       "Variable containing:\n",
       " 0.9126 -0.3906 -0.1663 -2.1361 -1.6829\n",
       " 1.6762 -3.9587  0.2134 -5.0931 -5.2153\n",
       "-0.1509 -0.2189 -0.6542 -2.9022 -2.6071\n",
       "[torch.cuda.FloatTensor of size 3x5 (GPU 0)]"
      ]
     },
     "execution_count": 4,
     "metadata": {},
     "output_type": "execute_result"
    }
   ],
   "source": [
    "out"
   ]
  },
  {
   "cell_type": "markdown",
   "metadata": {},
   "source": [
    "## PyTorch layers in Tensor Comprehensions "
   ]
  },
  {
   "cell_type": "code",
   "execution_count": null,
   "metadata": {
    "collapsed": true
   },
   "outputs": [],
   "source": []
  }
 ],
 "metadata": {
  "kernelspec": {
   "display_name": "Python 3",
   "language": "python",
   "name": "python3"
  },
  "language_info": {
   "codemirror_mode": {
    "name": "ipython",
    "version": 3
   },
   "file_extension": ".py",
   "mimetype": "text/x-python",
   "name": "python",
   "nbconvert_exporter": "python",
   "pygments_lexer": "ipython3",
   "version": "3.6.3"
  }
 },
 "nbformat": 4,
 "nbformat_minor": 2
}
