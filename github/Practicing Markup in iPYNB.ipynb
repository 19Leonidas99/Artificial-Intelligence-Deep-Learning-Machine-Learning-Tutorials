{
 "cells": [
  {
   "cell_type": "markdown",
   "metadata": {},
   "source": [
    "# \n",
    "\n",
    "Note: \n",
    "\n",
    "$\\begin{array}{c|l|l} \\textbf{Paramter} & \\textbf{Variable} & \\textbf{Type} \n",
    "\\\\\\hline\\text{Inputs} & \\text{$x_i (i^{th}$ input} & \\text{Real or binary}\n",
    "\\\\\\hline\\text{Synaptic weights} & \\text{$w_i$ associated with $x_i$} & \\text{Real, initialized with random values}\n",
    "\\\\\\hline\\text{Threshold bias} & \\text{$\\theta$} & \\text{Real, initialized with random values}\n",
    "\\\\\\hline\\text{Output} & \\text{$y$} & \\text{Binary}\n",
    "\\\\\\hline\\text{Activation function} & \\text{$g(.)$} & \\text{Step or bipolar step function}\n",
    "\\\\\\hline\\text{Training} & \\text{--} & \\text{Supervised}\n",
    "\\\\\\hline\\text{Learning rule} & \\text{--} & \\text{Rule that you're using}\n",
    "\\\\\\end{array}$\n",
    "\n"
   ]
  },
  {
   "cell_type": "markdown",
   "metadata": {
    "collapsed": true
   },
   "source": [
    "## Biological neuron\n",
    "\n",
    "<img src=\"images/neuron.png\">\n",
    "\n",
    "\n",
    "\n",
    "\n",
    "\n",
    "\n",
    "\n",
    "## Synaptic connections between neurons\n",
    "\n",
    "<img src=\"images/synaptics.png\">\n",
    "\n",
    "\n",
    "$\\begin{array}{c|l|l} \\textbf{Paramter} & \\textbf{Variable} & \\textbf{Type} \n",
    "\\\\\\hline\\text{Inputs} & \\text{$x_i (i^{th}$ input} & \\text{Real or binary}\n",
    "\\\\\\hline\\text{Synaptic weights} & \\text{$w_i$ associated with $x_i$} & \\text{Real, initialized with random values}\n",
    "\\\\\\hline\\text{Threshold bias} & \\text{$\\theta$} & \\text{Real, initialized with random values}\n",
    "\\\\\\hline\\text{Output} & \\text{$y$} & \\text{Binary}\n",
    "\\\\\\hline\\text{Activation function} & \\text{$g(.)$} & \\text{Step or bipolar step function}\n",
    "\\\\\\hline\\text{Training} & \\text{--} & \\text{Supervised}\n",
    "\\\\\\hline\\text{Learning rule} & \\text{--} & \\text{Rule that you're using}\n",
    "\\\\\\end{array}$"
   ]
  },
  {
   "cell_type": "code",
   "execution_count": null,
   "metadata": {
    "collapsed": true
   },
   "outputs": [],
   "source": []
  }
 ],
 "metadata": {
  "kernelspec": {
   "display_name": "Python 3",
   "language": "python",
   "name": "python3"
  },
  "language_info": {
   "codemirror_mode": {
    "name": "ipython",
    "version": 3
   },
   "file_extension": ".py",
   "mimetype": "text/x-python",
   "name": "python",
   "nbconvert_exporter": "python",
   "pygments_lexer": "ipython3",
   "version": "3.6.1"
  }
 },
 "nbformat": 4,
 "nbformat_minor": 2
}
